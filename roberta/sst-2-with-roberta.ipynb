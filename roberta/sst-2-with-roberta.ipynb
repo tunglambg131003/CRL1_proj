{
 "metadata": {
  "kernelspec": {
   "language": "python",
   "display_name": "Python 3",
   "name": "python3"
  },
  "language_info": {
   "name": "python",
   "version": "3.6.6",
   "mimetype": "text/x-python",
   "codemirror_mode": {
    "name": "ipython",
    "version": 3
   },
   "pygments_lexer": "ipython3",
   "nbconvert_exporter": "python",
   "file_extension": ".py"
  },
  "kaggle": {
   "accelerator": "gpu",
   "dataSources": [
    {
     "sourceId": 320111,
     "sourceType": "datasetVersion",
     "datasetId": 134715
    },
    {
     "sourceId": 1027970,
     "sourceType": "datasetVersion",
     "datasetId": 566161
    },
    {
     "sourceId": 1031443,
     "sourceType": "datasetVersion",
     "datasetId": 568433
    },
    {
     "sourceId": 8535935,
     "sourceType": "datasetVersion",
     "datasetId": 5098610
    }
   ],
   "dockerImageVersionId": 29862,
   "isInternetEnabled": true,
   "language": "python",
   "sourceType": "notebook",
   "isGpuEnabled": true
  }
 },
 "nbformat_minor": 4,
 "nbformat": 4,
 "cells": [
  {
   "cell_type": "raw",
   "source": [
    "%%bash\n",
    "pip install -q transformers"
   ],
   "metadata": {
    "_uuid": "8f2839f25d086af736a60e9eeb907d3b93b6e0e5",
    "_cell_guid": "b1076dfc-b9ad-4769-8c92-a6c4dae69d19"
   }
  },
  {
   "cell_type": "code",
   "source": [
    "import numpy as np # linear algebra\n",
    "import pandas as pd # data processing, CSV file I/O (e.g. pd.read_csv)\n",
    "from pathlib import Path \n",
    "\n",
    "import os\n",
    "\n",
    "import torch\n",
    "import torch.optim as optim\n",
    "\n",
    "import random \n",
    "\n",
    "# fastai\n",
    "from fastai import *\n",
    "from fastai.text import *\n",
    "from fastai.callbacks import *\n",
    "\n",
    "# transformers\n",
    "from transformers import PreTrainedModel, PreTrainedTokenizer, PretrainedConfig\n",
    "\n",
    "from transformers import BertForSequenceClassification, BertTokenizer, BertConfig\n",
    "from transformers import RobertaForSequenceClassification, RobertaTokenizer, RobertaConfig\n",
    "from transformers import XLNetForSequenceClassification, XLNetTokenizer, XLNetConfig\n",
    "from transformers import XLMForSequenceClassification, XLMTokenizer, XLMConfig\n",
    "from transformers import DistilBertForSequenceClassification, DistilBertTokenizer, DistilBertConfig"
   ],
   "metadata": {
    "_uuid": "d629ff2d2480ee46fbb7e2d37f6b5fab8052498a",
    "_cell_guid": "79c7e3d0-c299-4dcb-8224-4455121ee9b0",
    "execution": {
     "iopub.status.busy": "2024-05-29T06:11:22.078700Z",
     "iopub.execute_input": "2024-05-29T06:11:22.079241Z",
     "iopub.status.idle": "2024-05-29T06:11:31.607687Z",
     "shell.execute_reply.started": "2024-05-29T06:11:22.079156Z",
     "shell.execute_reply": "2024-05-29T06:11:31.606956Z"
    },
    "trusted": true
   },
   "execution_count": 1,
   "outputs": []
  },
  {
   "cell_type": "code",
   "source": [
    "import fastai\n",
    "import transformers\n",
    "print('fastai version :', fastai.__version__)\n",
    "print('transformers version :', transformers.__version__)"
   ],
   "metadata": {
    "execution": {
     "iopub.status.busy": "2024-05-29T06:11:31.609911Z",
     "iopub.execute_input": "2024-05-29T06:11:31.610244Z",
     "iopub.status.idle": "2024-05-29T06:11:31.623625Z",
     "shell.execute_reply.started": "2024-05-29T06:11:31.610191Z",
     "shell.execute_reply": "2024-05-29T06:11:31.622309Z"
    },
    "trusted": true
   },
   "execution_count": 2,
   "outputs": [
    {
     "name": "stdout",
     "text": "fastai version : 1.0.60\ntransformers version : 2.5.1\n",
     "output_type": "stream"
    }
   ]
  },
  {
   "cell_type": "code",
   "source": [
    "import pandas as pd\n",
    "from sklearn.model_selection import train_test_split\n",
    "train = pd.read_csv(\"/kaggle/input/sst-2-dataset/train.csv\")\n",
    "validation = pd.read_csv(\"/kaggle/input/sst-2-dataset/validation.csv\")\n",
    "test = pd.read_csv(\"/kaggle/input/imdb-dataset-of-50k-movie-reviews/IMDB Dataset.csv\")\n",
    "print(train.shape,test.shape)"
   ],
   "metadata": {
    "execution": {
     "iopub.status.busy": "2024-05-29T06:11:31.624915Z",
     "iopub.execute_input": "2024-05-29T06:11:31.625219Z",
     "iopub.status.idle": "2024-05-29T06:11:32.795786Z",
     "shell.execute_reply.started": "2024-05-29T06:11:31.625180Z",
     "shell.execute_reply": "2024-05-29T06:11:32.794840Z"
    },
    "trusted": true
   },
   "execution_count": 3,
   "outputs": [
    {
     "name": "stdout",
     "text": "(67349, 3) (50000, 2)\n",
     "output_type": "stream"
    }
   ]
  },
  {
   "cell_type": "code",
   "source": [
    "train.head()"
   ],
   "metadata": {
    "execution": {
     "iopub.status.busy": "2024-05-29T06:11:32.797031Z",
     "iopub.execute_input": "2024-05-29T06:11:32.797345Z",
     "iopub.status.idle": "2024-05-29T06:11:32.821463Z",
     "shell.execute_reply.started": "2024-05-29T06:11:32.797305Z",
     "shell.execute_reply": "2024-05-29T06:11:32.820418Z"
    },
    "trusted": true
   },
   "execution_count": 4,
   "outputs": [
    {
     "execution_count": 4,
     "output_type": "execute_result",
     "data": {
      "text/plain": "   idx                                           sentence  label\n0    0       hide new secretions from the parental units       0\n1    1               contains no wit , only labored gags       0\n2    2  that loves its characters and communicates som...      1\n3    3  remains utterly satisfied to remain the same t...      0\n4    4  on the worst revenge-of-the-nerds clichés the ...      0",
      "text/html": "<div>\n<style scoped>\n    .dataframe tbody tr th:only-of-type {\n        vertical-align: middle;\n    }\n\n    .dataframe tbody tr th {\n        vertical-align: top;\n    }\n\n    .dataframe thead th {\n        text-align: right;\n    }\n</style>\n<table border=\"1\" class=\"dataframe\">\n  <thead>\n    <tr style=\"text-align: right;\">\n      <th></th>\n      <th>idx</th>\n      <th>sentence</th>\n      <th>label</th>\n    </tr>\n  </thead>\n  <tbody>\n    <tr>\n      <th>0</th>\n      <td>0</td>\n      <td>hide new secretions from the parental units</td>\n      <td>0</td>\n    </tr>\n    <tr>\n      <th>1</th>\n      <td>1</td>\n      <td>contains no wit , only labored gags</td>\n      <td>0</td>\n    </tr>\n    <tr>\n      <th>2</th>\n      <td>2</td>\n      <td>that loves its characters and communicates som...</td>\n      <td>1</td>\n    </tr>\n    <tr>\n      <th>3</th>\n      <td>3</td>\n      <td>remains utterly satisfied to remain the same t...</td>\n      <td>0</td>\n    </tr>\n    <tr>\n      <th>4</th>\n      <td>4</td>\n      <td>on the worst revenge-of-the-nerds clichés the ...</td>\n      <td>0</td>\n    </tr>\n  </tbody>\n</table>\n</div>"
     },
     "metadata": {}
    }
   ]
  },
  {
   "cell_type": "code",
   "source": [
    "test.rename(columns={'review': 'sentence', 'sentiment': 'label'}, inplace=True)\n",
    "\n",
    "test['label'] = test['label'].map({'negative': 0, 'positive': 1})\n",
    "\n",
    "output_path = \"/kaggle/working/modified_imdb_dataset.csv\"\n",
    "test.to_csv(output_path, index=False)\n",
    "\n",
    "test.head()"
   ],
   "metadata": {
    "execution": {
     "iopub.status.busy": "2024-05-29T06:11:32.824410Z",
     "iopub.execute_input": "2024-05-29T06:11:32.824727Z",
     "iopub.status.idle": "2024-05-29T06:11:36.011661Z",
     "shell.execute_reply.started": "2024-05-29T06:11:32.824676Z",
     "shell.execute_reply": "2024-05-29T06:11:36.010859Z"
    },
    "trusted": true
   },
   "execution_count": 5,
   "outputs": [
    {
     "execution_count": 5,
     "output_type": "execute_result",
     "data": {
      "text/plain": "                                            sentence  label\n0  One of the other reviewers has mentioned that ...      1\n1  A wonderful little production. <br /><br />The...      1\n2  I thought this was a wonderful way to spend ti...      1\n3  Basically there's a family where a little boy ...      0\n4  Petter Mattei's \"Love in the Time of Money\" is...      1",
      "text/html": "<div>\n<style scoped>\n    .dataframe tbody tr th:only-of-type {\n        vertical-align: middle;\n    }\n\n    .dataframe tbody tr th {\n        vertical-align: top;\n    }\n\n    .dataframe thead th {\n        text-align: right;\n    }\n</style>\n<table border=\"1\" class=\"dataframe\">\n  <thead>\n    <tr style=\"text-align: right;\">\n      <th></th>\n      <th>sentence</th>\n      <th>label</th>\n    </tr>\n  </thead>\n  <tbody>\n    <tr>\n      <th>0</th>\n      <td>One of the other reviewers has mentioned that ...</td>\n      <td>1</td>\n    </tr>\n    <tr>\n      <th>1</th>\n      <td>A wonderful little production. &lt;br /&gt;&lt;br /&gt;The...</td>\n      <td>1</td>\n    </tr>\n    <tr>\n      <th>2</th>\n      <td>I thought this was a wonderful way to spend ti...</td>\n      <td>1</td>\n    </tr>\n    <tr>\n      <th>3</th>\n      <td>Basically there's a family where a little boy ...</td>\n      <td>0</td>\n    </tr>\n    <tr>\n      <th>4</th>\n      <td>Petter Mattei's \"Love in the Time of Money\" is...</td>\n      <td>1</td>\n    </tr>\n  </tbody>\n</table>\n</div>"
     },
     "metadata": {}
    }
   ]
  },
  {
   "cell_type": "code",
   "source": [
    "MODEL_CLASSES = {\n",
    "    'bert': (BertForSequenceClassification, BertTokenizer, BertConfig),\n",
    "    'xlnet': (XLNetForSequenceClassification, XLNetTokenizer, XLNetConfig),\n",
    "    'xlm': (XLMForSequenceClassification, XLMTokenizer, XLMConfig),\n",
    "    'roberta': (RobertaForSequenceClassification, RobertaTokenizer, RobertaConfig),\n",
    "    'distilbert': (DistilBertForSequenceClassification, DistilBertTokenizer, DistilBertConfig)\n",
    "}"
   ],
   "metadata": {
    "execution": {
     "iopub.status.busy": "2024-05-29T06:11:36.015123Z",
     "iopub.execute_input": "2024-05-29T06:11:36.015512Z",
     "iopub.status.idle": "2024-05-29T06:11:36.021023Z",
     "shell.execute_reply.started": "2024-05-29T06:11:36.015466Z",
     "shell.execute_reply": "2024-05-29T06:11:36.020061Z"
    },
    "trusted": true
   },
   "execution_count": 6,
   "outputs": []
  },
  {
   "cell_type": "code",
   "source": [
    "# Parameters\n",
    "seed = 42\n",
    "use_fp16 = False\n",
    "bs = 12\n",
    "\n",
    "model_type = 'roberta'\n",
    "pretrained_model_name = 'roberta-base'\n",
    "\n",
    "# model_type = 'bert'\n",
    "# pretrained_model_name='bert-base-uncased'\n",
    "\n",
    "# model_type = 'distilbert'\n",
    "# pretrained_model_name = 'distilbert-base-uncased'\n",
    "\n",
    "#model_type = 'xlm'\n",
    "#pretrained_model_name = 'xlm-clm-enfr-1024'\n",
    "\n",
    "# model_type = 'xlnet'\n",
    "# pretrained_model_name = 'xlnet-base-cased'"
   ],
   "metadata": {
    "execution": {
     "iopub.status.busy": "2024-05-29T06:11:36.022558Z",
     "iopub.execute_input": "2024-05-29T06:11:36.022878Z",
     "iopub.status.idle": "2024-05-29T06:11:36.031017Z",
     "shell.execute_reply.started": "2024-05-29T06:11:36.022823Z",
     "shell.execute_reply": "2024-05-29T06:11:36.030270Z"
    },
    "trusted": true
   },
   "execution_count": 7,
   "outputs": []
  },
  {
   "cell_type": "code",
   "source": [
    "model_class, tokenizer_class, config_class = MODEL_CLASSES[model_type]"
   ],
   "metadata": {
    "execution": {
     "iopub.status.busy": "2024-05-29T06:11:36.032599Z",
     "iopub.execute_input": "2024-05-29T06:11:36.032995Z",
     "iopub.status.idle": "2024-05-29T06:11:36.042065Z",
     "shell.execute_reply.started": "2024-05-29T06:11:36.032939Z",
     "shell.execute_reply": "2024-05-29T06:11:36.041290Z"
    },
    "trusted": true
   },
   "execution_count": 8,
   "outputs": []
  },
  {
   "cell_type": "code",
   "source": [
    "def seed_all(seed_value):\n",
    "    random.seed(seed_value) # Python\n",
    "    np.random.seed(seed_value) # cpu vars\n",
    "    torch.manual_seed(seed_value) # cpu  vars\n",
    "    \n",
    "    if torch.cuda.is_available(): \n",
    "        torch.cuda.manual_seed(seed_value)\n",
    "        torch.cuda.manual_seed_all(seed_value) # gpu vars\n",
    "        torch.backends.cudnn.deterministic = True  #needed\n",
    "        torch.backends.cudnn.benchmark = False"
   ],
   "metadata": {
    "execution": {
     "iopub.status.busy": "2024-05-29T06:11:36.043658Z",
     "iopub.execute_input": "2024-05-29T06:11:36.044043Z",
     "iopub.status.idle": "2024-05-29T06:11:36.051156Z",
     "shell.execute_reply.started": "2024-05-29T06:11:36.043993Z",
     "shell.execute_reply": "2024-05-29T06:11:36.050345Z"
    },
    "trusted": true
   },
   "execution_count": 9,
   "outputs": []
  },
  {
   "cell_type": "code",
   "source": [
    "seed_all(seed)"
   ],
   "metadata": {
    "execution": {
     "iopub.status.busy": "2024-05-29T06:11:36.052548Z",
     "iopub.execute_input": "2024-05-29T06:11:36.052921Z",
     "iopub.status.idle": "2024-05-29T06:11:36.062472Z",
     "shell.execute_reply.started": "2024-05-29T06:11:36.052856Z",
     "shell.execute_reply": "2024-05-29T06:11:36.061598Z"
    },
    "trusted": true
   },
   "execution_count": 10,
   "outputs": []
  },
  {
   "cell_type": "code",
   "source": [
    "class TransformersBaseTokenizer(BaseTokenizer):\n",
    "    \"\"\"Wrapper around PreTrainedTokenizer to be compatible with fast.ai\"\"\"\n",
    "    def __init__(self, pretrained_tokenizer: PreTrainedTokenizer, model_type = 'bert', **kwargs):\n",
    "        self._pretrained_tokenizer = pretrained_tokenizer\n",
    "        self.max_seq_len = pretrained_tokenizer.max_len\n",
    "        self.model_type = model_type\n",
    "\n",
    "    def __call__(self, *args, **kwargs): \n",
    "        return self\n",
    "\n",
    "    def tokenizer(self, t:str) -> List[str]:\n",
    "        \"\"\"Limits the maximum sequence length and add the spesial tokens\"\"\"\n",
    "        CLS = self._pretrained_tokenizer.cls_token\n",
    "        SEP = self._pretrained_tokenizer.sep_token\n",
    "        if self.model_type in ['roberta']:\n",
    "            tokens = self._pretrained_tokenizer.tokenize(t, add_prefix_space=True)[:self.max_seq_len - 2]\n",
    "            tokens = [CLS] + tokens + [SEP]\n",
    "        else:\n",
    "            tokens = self._pretrained_tokenizer.tokenize(t)[:self.max_seq_len - 2]\n",
    "            if self.model_type in ['xlnet']:\n",
    "                tokens = tokens + [SEP] +  [CLS]\n",
    "            else:\n",
    "                tokens = [CLS] + tokens + [SEP]\n",
    "        return tokens"
   ],
   "metadata": {
    "execution": {
     "iopub.status.busy": "2024-05-29T06:11:36.063879Z",
     "iopub.execute_input": "2024-05-29T06:11:36.064196Z",
     "iopub.status.idle": "2024-05-29T06:11:36.075157Z",
     "shell.execute_reply.started": "2024-05-29T06:11:36.064132Z",
     "shell.execute_reply": "2024-05-29T06:11:36.074206Z"
    },
    "trusted": true
   },
   "execution_count": 11,
   "outputs": []
  },
  {
   "cell_type": "code",
   "source": [
    "transformer_tokenizer = tokenizer_class.from_pretrained(pretrained_model_name)\n",
    "transformer_base_tokenizer = TransformersBaseTokenizer(pretrained_tokenizer = transformer_tokenizer, model_type = model_type)\n",
    "fastai_tokenizer = Tokenizer(tok_func = transformer_base_tokenizer, pre_rules=[], post_rules=[])"
   ],
   "metadata": {
    "execution": {
     "iopub.status.busy": "2024-05-29T06:11:36.076446Z",
     "iopub.execute_input": "2024-05-29T06:11:36.076733Z",
     "iopub.status.idle": "2024-05-29T06:11:37.012970Z",
     "shell.execute_reply.started": "2024-05-29T06:11:36.076694Z",
     "shell.execute_reply": "2024-05-29T06:11:37.012037Z"
    },
    "trusted": true
   },
   "execution_count": 12,
   "outputs": [
    {
     "output_type": "display_data",
     "data": {
      "text/plain": "HBox(children=(FloatProgress(value=0.0, description='Downloading', max=898823.0, style=ProgressStyle(descripti…",
      "application/vnd.jupyter.widget-view+json": {
       "version_major": 2,
       "version_minor": 0,
       "model_id": "33a56a11759b42e4b86903c53020131d"
      }
     },
     "metadata": {}
    },
    {
     "name": "stdout",
     "text": "\n",
     "output_type": "stream"
    },
    {
     "output_type": "display_data",
     "data": {
      "text/plain": "HBox(children=(FloatProgress(value=0.0, description='Downloading', max=456318.0, style=ProgressStyle(descripti…",
      "application/vnd.jupyter.widget-view+json": {
       "version_major": 2,
       "version_minor": 0,
       "model_id": "75ce920a3c3b4d8a8d998eba7901af12"
      }
     },
     "metadata": {}
    },
    {
     "name": "stdout",
     "text": "\n",
     "output_type": "stream"
    }
   ]
  },
  {
   "cell_type": "code",
   "source": [
    "class TransformersVocab(Vocab):\n",
    "    def __init__(self, tokenizer: PreTrainedTokenizer):\n",
    "        super(TransformersVocab, self).__init__(itos = [])\n",
    "        self.tokenizer = tokenizer\n",
    "    \n",
    "    def numericalize(self, t:Collection[str]) -> List[int]:\n",
    "        \"Convert a list of tokens `t` to their ids.\"\n",
    "        return self.tokenizer.convert_tokens_to_ids(t)\n",
    "        #return self.tokenizer.encode(t)\n",
    "\n",
    "    def textify(self, nums:Collection[int], sep=' ') -> List[str]:\n",
    "        \"Convert a list of `nums` to their tokens.\"\n",
    "        nums = np.array(nums).tolist()\n",
    "        return sep.join(self.tokenizer.convert_ids_to_tokens(nums)) if sep is not None else self.tokenizer.convert_ids_to_tokens(nums)\n",
    "    \n",
    "    def __getstate__(self):\n",
    "        return {'itos':self.itos, 'tokenizer':self.tokenizer}\n",
    "\n",
    "    def __setstate__(self, state:dict):\n",
    "        self.itos = state['itos']\n",
    "        self.tokenizer = state['tokenizer']\n",
    "        self.stoi = collections.defaultdict(int,{v:k for k,v in enumerate(self.itos)})"
   ],
   "metadata": {
    "execution": {
     "iopub.status.busy": "2024-05-29T06:11:37.014478Z",
     "iopub.execute_input": "2024-05-29T06:11:37.014802Z",
     "iopub.status.idle": "2024-05-29T06:11:37.026976Z",
     "shell.execute_reply.started": "2024-05-29T06:11:37.014753Z",
     "shell.execute_reply": "2024-05-29T06:11:37.025908Z"
    },
    "trusted": true
   },
   "execution_count": 13,
   "outputs": []
  },
  {
   "cell_type": "code",
   "source": [
    "transformer_vocab =  TransformersVocab(tokenizer = transformer_tokenizer)\n",
    "numericalize_processor = NumericalizeProcessor(vocab=transformer_vocab)\n",
    "\n",
    "tokenize_processor = TokenizeProcessor(tokenizer=fastai_tokenizer, include_bos=False, include_eos=False)\n",
    "\n",
    "transformer_processor = [tokenize_processor, numericalize_processor]"
   ],
   "metadata": {
    "execution": {
     "iopub.status.busy": "2024-05-29T06:11:37.029150Z",
     "iopub.execute_input": "2024-05-29T06:11:37.029644Z",
     "iopub.status.idle": "2024-05-29T06:11:37.036321Z",
     "shell.execute_reply.started": "2024-05-29T06:11:37.029588Z",
     "shell.execute_reply": "2024-05-29T06:11:37.035302Z"
    },
    "trusted": true
   },
   "execution_count": 14,
   "outputs": []
  },
  {
   "cell_type": "code",
   "source": [
    "pad_first = bool(model_type in ['xlnet'])\n",
    "pad_idx = transformer_tokenizer.pad_token_id\n",
    "tokens = transformer_tokenizer.tokenize('Salut c est moi, Hello it s me')\n",
    "print(tokens)\n",
    "ids = transformer_tokenizer.convert_tokens_to_ids(tokens)\n",
    "print(ids)\n",
    "transformer_tokenizer.convert_ids_to_tokens(ids)\n"
   ],
   "metadata": {
    "execution": {
     "iopub.status.busy": "2024-05-29T06:11:37.037764Z",
     "iopub.execute_input": "2024-05-29T06:11:37.038199Z",
     "iopub.status.idle": "2024-05-29T06:11:37.049493Z",
     "shell.execute_reply.started": "2024-05-29T06:11:37.038127Z",
     "shell.execute_reply": "2024-05-29T06:11:37.048402Z"
    },
    "trusted": true
   },
   "execution_count": 15,
   "outputs": [
    {
     "name": "stdout",
     "text": "['Sal', 'ut', 'Ġc', 'Ġest', 'Ġmo', 'i', ',', 'ĠHello', 'Ġit', 'Ġs', 'Ġme']\n[18111, 1182, 740, 3304, 7458, 118, 6, 20920, 24, 579, 162]\n",
     "output_type": "stream"
    },
    {
     "execution_count": 15,
     "output_type": "execute_result",
     "data": {
      "text/plain": "['Sal', 'ut', 'Ġc', 'Ġest', 'Ġmo', 'i', ',', 'ĠHello', 'Ġit', 'Ġs', 'Ġme']"
     },
     "metadata": {}
    }
   ]
  },
  {
   "cell_type": "code",
   "source": [
    "databunch = (TextList.from_df(train, cols='sentence', processor=transformer_processor)\n",
    "             .split_none()\n",
    "             .label_from_df(cols= 'label')\n",
    "             .databunch(bs=bs, pad_first=pad_first, pad_idx=pad_idx))"
   ],
   "metadata": {
    "execution": {
     "iopub.status.busy": "2024-05-29T06:11:37.051136Z",
     "iopub.execute_input": "2024-05-29T06:11:37.051531Z",
     "iopub.status.idle": "2024-05-29T06:11:53.301265Z",
     "shell.execute_reply.started": "2024-05-29T06:11:37.051480Z",
     "shell.execute_reply": "2024-05-29T06:11:53.300318Z"
    },
    "trusted": true
   },
   "execution_count": 16,
   "outputs": [
    {
     "output_type": "display_data",
     "data": {
      "text/plain": "<IPython.core.display.HTML object>",
      "text/html": ""
     },
     "metadata": {}
    },
    {
     "output_type": "display_data",
     "data": {
      "text/plain": "<IPython.core.display.HTML object>",
      "text/html": ""
     },
     "metadata": {}
    }
   ]
  },
  {
   "cell_type": "code",
   "source": [
    "valid_databunch = (TextList.from_df(validation, cols='sentence', processor=transformer_processor)\n",
    "             .split_none()\n",
    "             .label_from_df(cols= 'label')\n",
    "             .databunch(bs=bs, pad_first=pad_first, pad_idx=pad_idx))"
   ],
   "metadata": {
    "execution": {
     "iopub.status.busy": "2024-05-29T06:11:53.302900Z",
     "iopub.execute_input": "2024-05-29T06:11:53.303237Z",
     "iopub.status.idle": "2024-05-29T06:11:54.141075Z",
     "shell.execute_reply.started": "2024-05-29T06:11:53.303188Z",
     "shell.execute_reply": "2024-05-29T06:11:54.140215Z"
    },
    "trusted": true
   },
   "execution_count": 17,
   "outputs": [
    {
     "output_type": "display_data",
     "data": {
      "text/plain": "<IPython.core.display.HTML object>",
      "text/html": ""
     },
     "metadata": {}
    },
    {
     "output_type": "display_data",
     "data": {
      "text/plain": "<IPython.core.display.HTML object>",
      "text/html": ""
     },
     "metadata": {}
    }
   ]
  },
  {
   "cell_type": "code",
   "source": [
    "test_databunch = (TextList.from_df(test, cols='sentence', processor=transformer_processor)\n",
    "             .split_none()\n",
    "             .label_from_df(cols= 'label')\n",
    "             .databunch(bs=bs, pad_first=pad_first, pad_idx=pad_idx))"
   ],
   "metadata": {
    "execution": {
     "iopub.status.busy": "2024-05-29T06:11:54.142604Z",
     "iopub.execute_input": "2024-05-29T06:11:54.142936Z",
     "iopub.status.idle": "2024-05-29T06:13:26.093222Z",
     "shell.execute_reply.started": "2024-05-29T06:11:54.142882Z",
     "shell.execute_reply": "2024-05-29T06:13:26.092219Z"
    },
    "trusted": true
   },
   "execution_count": 18,
   "outputs": [
    {
     "output_type": "display_data",
     "data": {
      "text/plain": "<IPython.core.display.HTML object>",
      "text/html": ""
     },
     "metadata": {}
    },
    {
     "output_type": "display_data",
     "data": {
      "text/plain": "<IPython.core.display.HTML object>",
      "text/html": ""
     },
     "metadata": {}
    }
   ]
  },
  {
   "cell_type": "code",
   "source": [
    "import torch.tensor as Tensor\n",
    "def dropout_mask(x:Tensor, sz, p:float):\n",
    "    \"Return a dropout mask of the same type as x, size sz, with probability p to cancel an element.\"\n",
    "    return x.new(*sz).bernoulli_(1-p).div_(1-p)\n",
    "\n",
    "class RNNDropout(nn.Module):\n",
    "    \"Dropout with probability p that is consistent on the seq_len dimension.\"\n",
    "\n",
    "    def __init__(self, p:float=0.5): \n",
    "        super(RNNDropout, self).__init__()\n",
    "        self.p=p\n",
    "\n",
    "    def forward(self, x:Tensor)->Tensor:\n",
    "        if not self.training or self.p == 0.: return x\n",
    "        m = dropout_mask(x.data, (x.size(0), 1, x.size(2)), self.p)\n",
    "        return x * m\n",
    "\n",
    "class WeightDropout(nn.Module):\n",
    "    \"A module that warps another layer in which some weights will be replaced by 0 during training.\"\n",
    "\n",
    "    def __init__(self, module:nn.Module, weight_p:float, layer_names=['weight_hh_l0']):\n",
    "        super(WeightDropout, self).__init__()\n",
    "        self.module,self.weight_p,self.layer_names = module,weight_p,layer_names\n",
    "        for layer in self.layer_names:\n",
    "            #Makes a copy of the weights of the selected layers.\n",
    "            w = getattr(self.module, layer)\n",
    "            # Registered in list of parameters\n",
    "            self.register_parameter(str(layer)+'_raw', nn.Parameter(w.data))\n",
    "            self.module._parameters[layer] = F.dropout(w, p=self.weight_p, training=False)\n",
    "\n",
    "    def _setweights(self):\n",
    "        \"Apply dropout to the raw weights.\"\n",
    "        for layer in self.layer_names:\n",
    "            raw_w = getattr(self, str(layer) +'_raw')\n",
    "            self.module._parameters[layer] = F.dropout(raw_w, p=self.weight_p, training=self.training)\n",
    "\n",
    "    def forward(self, *args):\n",
    "        self._setweights()\n",
    "        with warnings.catch_warnings():\n",
    "            #To avoid the warning that comes because the weights aren't flattened.\n",
    "            warnings.simplefilter(\"ignore\")\n",
    "            return self.module.forward(*args)\n",
    "\n",
    "    def reset(self):\n",
    "        for layer in self.layer_names:\n",
    "            raw_w = getattr(self, str(layer) + '_raw')\n",
    "            self.module._parameters[layer] = F.dropout(raw_w, p=self.weight_p, training=False)\n",
    "        if hasattr(self.module, 'reset'): self.module.reset()"
   ],
   "metadata": {
    "execution": {
     "iopub.status.busy": "2024-05-29T06:13:26.094880Z",
     "iopub.execute_input": "2024-05-29T06:13:26.095231Z",
     "iopub.status.idle": "2024-05-29T06:13:26.115439Z",
     "shell.execute_reply.started": "2024-05-29T06:13:26.095181Z",
     "shell.execute_reply": "2024-05-29T06:13:26.114475Z"
    },
    "trusted": true
   },
   "execution_count": 19,
   "outputs": []
  },
  {
   "cell_type": "code",
   "source": [
    "# defining our model architecture \n",
    "class CustomTransformerModel(nn.Module):\n",
    "    def __init__(self, transformer_model: PreTrainedModel):\n",
    "        super(CustomTransformerModel,self).__init__()\n",
    "        self.transformer = transformer_model\n",
    "        self.transformer = self.transformer\n",
    "        self.rnns = [nn.LSTM(768 if l == 0 else 1152,\n",
    "                            (1152 if l != 2-1 else 768)//2,\n",
    "                            1, bidirectional = True, batch_first = True) for l in range(2)]\n",
    "        \n",
    "        \n",
    "        self.rnns = [WeightDropout(rnn, 0.4) for rnn in self.rnns]\n",
    "        self.rnns = nn.ModuleList(self.rnns)\n",
    "        self.hidden_dps = nn.ModuleList([RNNDropout(0.5) for l in range(2)])\n",
    "        self.out = nn.Linear(768,2)\n",
    "        self.bs = bs\n",
    "        \n",
    "    def forward(self, input_ids, attention_mask=None):\n",
    "        self.bs =input_ids.shape[0]\n",
    "        self.reset()\n",
    "        # attention_mask\n",
    "        # Mask to avoid performing attention on padding token indices.\n",
    "        # Mask values selected in `[0, 1]`:\n",
    "        # `1` for tokens that are NOT MASKED, `0` for MASKED tokens.\n",
    "        attention_mask = (input_ids!=pad_idx).type(input_ids.type()) \n",
    "        \n",
    "        raw_output = self.transformer(input_ids,\n",
    "                                  attention_mask = attention_mask)[0]\n",
    "#         print(raw_output.shape)\n",
    "# #         hidden, _ = self.rnns(logits)\n",
    "        for l, (rnn,hid_dp) in enumerate(zip(self.rnns,self.hidden_dps)):\n",
    "            raw_output,_ = rnn(raw_output, self.hidden[l])\n",
    "            if l != 2-1:raw_output = hid_dp(raw_output)\n",
    "        output = self.out(raw_output)\n",
    "        return output.mean(1).squeeze()\n",
    "    def _one_hidden(self, l:int)->Tensor:\n",
    "        \"Return one hidden state.\"\n",
    "        nh = (1152 if l != 1 else 768) //2\n",
    "        return torch.zeros(2,self.bs,nh).cuda()\n",
    "    def reset(self):\n",
    "        \"Reset the hidden states.\"\n",
    "        [r.reset() for r in self.rnns if hasattr(r, 'reset')]\n",
    "        self.hidden = [(self._one_hidden(l), self._one_hidden(l)) for l in range(2)]"
   ],
   "metadata": {
    "execution": {
     "iopub.status.busy": "2024-05-29T06:13:26.116985Z",
     "iopub.execute_input": "2024-05-29T06:13:26.117473Z",
     "iopub.status.idle": "2024-05-29T06:13:26.136629Z",
     "shell.execute_reply.started": "2024-05-29T06:13:26.117406Z",
     "shell.execute_reply": "2024-05-29T06:13:26.135561Z"
    },
    "trusted": true
   },
   "execution_count": 20,
   "outputs": []
  },
  {
   "cell_type": "code",
   "source": [
    "from transformers import RobertaTokenizer, RobertaModel\n",
    "# transformer_model = RobertaModel.from_pretrained(\"/kaggle/input/realroberta\")\n",
    "transformer_model = RobertaModel.from_pretrained(\"roberta-base\")"
   ],
   "metadata": {
    "execution": {
     "iopub.status.busy": "2024-05-29T06:13:26.137954Z",
     "iopub.execute_input": "2024-05-29T06:13:26.138325Z",
     "iopub.status.idle": "2024-05-29T06:13:41.219516Z",
     "shell.execute_reply.started": "2024-05-29T06:13:26.138270Z",
     "shell.execute_reply": "2024-05-29T06:13:41.218599Z"
    },
    "trusted": true
   },
   "execution_count": 21,
   "outputs": [
    {
     "output_type": "display_data",
     "data": {
      "text/plain": "HBox(children=(FloatProgress(value=0.0, description='Downloading', max=481.0, style=ProgressStyle(description_…",
      "application/vnd.jupyter.widget-view+json": {
       "version_major": 2,
       "version_minor": 0,
       "model_id": "cf8eadcbc5f44616ad147d63de796bee"
      }
     },
     "metadata": {}
    },
    {
     "name": "stdout",
     "text": "\n",
     "output_type": "stream"
    },
    {
     "output_type": "display_data",
     "data": {
      "text/plain": "HBox(children=(FloatProgress(value=0.0, description='Downloading', max=501200538.0, style=ProgressStyle(descri…",
      "application/vnd.jupyter.widget-view+json": {
       "version_major": 2,
       "version_minor": 0,
       "model_id": "635adc644cd842ae9d1a383711956e20"
      }
     },
     "metadata": {}
    },
    {
     "name": "stdout",
     "text": "\n",
     "output_type": "stream"
    }
   ]
  },
  {
   "cell_type": "code",
   "source": [
    "# transformer_model.embeddings.word_embeddings.weight"
   ],
   "metadata": {
    "execution": {
     "iopub.status.busy": "2024-05-29T06:13:41.220759Z",
     "iopub.execute_input": "2024-05-29T06:13:41.221049Z",
     "iopub.status.idle": "2024-05-29T06:13:41.225812Z",
     "shell.execute_reply.started": "2024-05-29T06:13:41.221014Z",
     "shell.execute_reply": "2024-05-29T06:13:41.224819Z"
    },
    "trusted": true
   },
   "execution_count": 22,
   "outputs": []
  },
  {
   "cell_type": "code",
   "source": [
    "# transformer_model1 = RobertaModel.from_pretrained(\"roberta-base\")\n",
    "# transformer_model1.embeddings.word_embeddings.weight"
   ],
   "metadata": {
    "execution": {
     "iopub.status.busy": "2024-05-29T06:13:41.227243Z",
     "iopub.execute_input": "2024-05-29T06:13:41.227669Z",
     "iopub.status.idle": "2024-05-29T06:13:41.236213Z",
     "shell.execute_reply.started": "2024-05-29T06:13:41.227608Z",
     "shell.execute_reply": "2024-05-29T06:13:41.235521Z"
    },
    "trusted": true
   },
   "execution_count": 23,
   "outputs": []
  },
  {
   "cell_type": "code",
   "source": [
    "custom_transformer_model = CustomTransformerModel(transformer_model = transformer_model)\n",
    "custom_transformer_model"
   ],
   "metadata": {
    "execution": {
     "iopub.status.busy": "2024-05-29T06:13:41.237690Z",
     "iopub.execute_input": "2024-05-29T06:13:41.238396Z",
     "iopub.status.idle": "2024-05-29T06:13:41.338201Z",
     "shell.execute_reply.started": "2024-05-29T06:13:41.238127Z",
     "shell.execute_reply": "2024-05-29T06:13:41.337275Z"
    },
    "trusted": true
   },
   "execution_count": 24,
   "outputs": [
    {
     "execution_count": 24,
     "output_type": "execute_result",
     "data": {
      "text/plain": "CustomTransformerModel(\n  (transformer): RobertaModel(\n    (embeddings): RobertaEmbeddings(\n      (word_embeddings): Embedding(50265, 768, padding_idx=1)\n      (position_embeddings): Embedding(514, 768, padding_idx=1)\n      (token_type_embeddings): Embedding(1, 768)\n      (LayerNorm): LayerNorm((768,), eps=1e-05, elementwise_affine=True)\n      (dropout): Dropout(p=0.1, inplace=False)\n    )\n    (encoder): BertEncoder(\n      (layer): ModuleList(\n        (0): BertLayer(\n          (attention): BertAttention(\n            (self): BertSelfAttention(\n              (query): Linear(in_features=768, out_features=768, bias=True)\n              (key): Linear(in_features=768, out_features=768, bias=True)\n              (value): Linear(in_features=768, out_features=768, bias=True)\n              (dropout): Dropout(p=0.1, inplace=False)\n            )\n            (output): BertSelfOutput(\n              (dense): Linear(in_features=768, out_features=768, bias=True)\n              (LayerNorm): LayerNorm((768,), eps=1e-05, elementwise_affine=True)\n              (dropout): Dropout(p=0.1, inplace=False)\n            )\n          )\n          (intermediate): BertIntermediate(\n            (dense): Linear(in_features=768, out_features=3072, bias=True)\n          )\n          (output): BertOutput(\n            (dense): Linear(in_features=3072, out_features=768, bias=True)\n            (LayerNorm): LayerNorm((768,), eps=1e-05, elementwise_affine=True)\n            (dropout): Dropout(p=0.1, inplace=False)\n          )\n        )\n        (1): BertLayer(\n          (attention): BertAttention(\n            (self): BertSelfAttention(\n              (query): Linear(in_features=768, out_features=768, bias=True)\n              (key): Linear(in_features=768, out_features=768, bias=True)\n              (value): Linear(in_features=768, out_features=768, bias=True)\n              (dropout): Dropout(p=0.1, inplace=False)\n            )\n            (output): BertSelfOutput(\n              (dense): Linear(in_features=768, out_features=768, bias=True)\n              (LayerNorm): LayerNorm((768,), eps=1e-05, elementwise_affine=True)\n              (dropout): Dropout(p=0.1, inplace=False)\n            )\n          )\n          (intermediate): BertIntermediate(\n            (dense): Linear(in_features=768, out_features=3072, bias=True)\n          )\n          (output): BertOutput(\n            (dense): Linear(in_features=3072, out_features=768, bias=True)\n            (LayerNorm): LayerNorm((768,), eps=1e-05, elementwise_affine=True)\n            (dropout): Dropout(p=0.1, inplace=False)\n          )\n        )\n        (2): BertLayer(\n          (attention): BertAttention(\n            (self): BertSelfAttention(\n              (query): Linear(in_features=768, out_features=768, bias=True)\n              (key): Linear(in_features=768, out_features=768, bias=True)\n              (value): Linear(in_features=768, out_features=768, bias=True)\n              (dropout): Dropout(p=0.1, inplace=False)\n            )\n            (output): BertSelfOutput(\n              (dense): Linear(in_features=768, out_features=768, bias=True)\n              (LayerNorm): LayerNorm((768,), eps=1e-05, elementwise_affine=True)\n              (dropout): Dropout(p=0.1, inplace=False)\n            )\n          )\n          (intermediate): BertIntermediate(\n            (dense): Linear(in_features=768, out_features=3072, bias=True)\n          )\n          (output): BertOutput(\n            (dense): Linear(in_features=3072, out_features=768, bias=True)\n            (LayerNorm): LayerNorm((768,), eps=1e-05, elementwise_affine=True)\n            (dropout): Dropout(p=0.1, inplace=False)\n          )\n        )\n        (3): BertLayer(\n          (attention): BertAttention(\n            (self): BertSelfAttention(\n              (query): Linear(in_features=768, out_features=768, bias=True)\n              (key): Linear(in_features=768, out_features=768, bias=True)\n              (value): Linear(in_features=768, out_features=768, bias=True)\n              (dropout): Dropout(p=0.1, inplace=False)\n            )\n            (output): BertSelfOutput(\n              (dense): Linear(in_features=768, out_features=768, bias=True)\n              (LayerNorm): LayerNorm((768,), eps=1e-05, elementwise_affine=True)\n              (dropout): Dropout(p=0.1, inplace=False)\n            )\n          )\n          (intermediate): BertIntermediate(\n            (dense): Linear(in_features=768, out_features=3072, bias=True)\n          )\n          (output): BertOutput(\n            (dense): Linear(in_features=3072, out_features=768, bias=True)\n            (LayerNorm): LayerNorm((768,), eps=1e-05, elementwise_affine=True)\n            (dropout): Dropout(p=0.1, inplace=False)\n          )\n        )\n        (4): BertLayer(\n          (attention): BertAttention(\n            (self): BertSelfAttention(\n              (query): Linear(in_features=768, out_features=768, bias=True)\n              (key): Linear(in_features=768, out_features=768, bias=True)\n              (value): Linear(in_features=768, out_features=768, bias=True)\n              (dropout): Dropout(p=0.1, inplace=False)\n            )\n            (output): BertSelfOutput(\n              (dense): Linear(in_features=768, out_features=768, bias=True)\n              (LayerNorm): LayerNorm((768,), eps=1e-05, elementwise_affine=True)\n              (dropout): Dropout(p=0.1, inplace=False)\n            )\n          )\n          (intermediate): BertIntermediate(\n            (dense): Linear(in_features=768, out_features=3072, bias=True)\n          )\n          (output): BertOutput(\n            (dense): Linear(in_features=3072, out_features=768, bias=True)\n            (LayerNorm): LayerNorm((768,), eps=1e-05, elementwise_affine=True)\n            (dropout): Dropout(p=0.1, inplace=False)\n          )\n        )\n        (5): BertLayer(\n          (attention): BertAttention(\n            (self): BertSelfAttention(\n              (query): Linear(in_features=768, out_features=768, bias=True)\n              (key): Linear(in_features=768, out_features=768, bias=True)\n              (value): Linear(in_features=768, out_features=768, bias=True)\n              (dropout): Dropout(p=0.1, inplace=False)\n            )\n            (output): BertSelfOutput(\n              (dense): Linear(in_features=768, out_features=768, bias=True)\n              (LayerNorm): LayerNorm((768,), eps=1e-05, elementwise_affine=True)\n              (dropout): Dropout(p=0.1, inplace=False)\n            )\n          )\n          (intermediate): BertIntermediate(\n            (dense): Linear(in_features=768, out_features=3072, bias=True)\n          )\n          (output): BertOutput(\n            (dense): Linear(in_features=3072, out_features=768, bias=True)\n            (LayerNorm): LayerNorm((768,), eps=1e-05, elementwise_affine=True)\n            (dropout): Dropout(p=0.1, inplace=False)\n          )\n        )\n        (6): BertLayer(\n          (attention): BertAttention(\n            (self): BertSelfAttention(\n              (query): Linear(in_features=768, out_features=768, bias=True)\n              (key): Linear(in_features=768, out_features=768, bias=True)\n              (value): Linear(in_features=768, out_features=768, bias=True)\n              (dropout): Dropout(p=0.1, inplace=False)\n            )\n            (output): BertSelfOutput(\n              (dense): Linear(in_features=768, out_features=768, bias=True)\n              (LayerNorm): LayerNorm((768,), eps=1e-05, elementwise_affine=True)\n              (dropout): Dropout(p=0.1, inplace=False)\n            )\n          )\n          (intermediate): BertIntermediate(\n            (dense): Linear(in_features=768, out_features=3072, bias=True)\n          )\n          (output): BertOutput(\n            (dense): Linear(in_features=3072, out_features=768, bias=True)\n            (LayerNorm): LayerNorm((768,), eps=1e-05, elementwise_affine=True)\n            (dropout): Dropout(p=0.1, inplace=False)\n          )\n        )\n        (7): BertLayer(\n          (attention): BertAttention(\n            (self): BertSelfAttention(\n              (query): Linear(in_features=768, out_features=768, bias=True)\n              (key): Linear(in_features=768, out_features=768, bias=True)\n              (value): Linear(in_features=768, out_features=768, bias=True)\n              (dropout): Dropout(p=0.1, inplace=False)\n            )\n            (output): BertSelfOutput(\n              (dense): Linear(in_features=768, out_features=768, bias=True)\n              (LayerNorm): LayerNorm((768,), eps=1e-05, elementwise_affine=True)\n              (dropout): Dropout(p=0.1, inplace=False)\n            )\n          )\n          (intermediate): BertIntermediate(\n            (dense): Linear(in_features=768, out_features=3072, bias=True)\n          )\n          (output): BertOutput(\n            (dense): Linear(in_features=3072, out_features=768, bias=True)\n            (LayerNorm): LayerNorm((768,), eps=1e-05, elementwise_affine=True)\n            (dropout): Dropout(p=0.1, inplace=False)\n          )\n        )\n        (8): BertLayer(\n          (attention): BertAttention(\n            (self): BertSelfAttention(\n              (query): Linear(in_features=768, out_features=768, bias=True)\n              (key): Linear(in_features=768, out_features=768, bias=True)\n              (value): Linear(in_features=768, out_features=768, bias=True)\n              (dropout): Dropout(p=0.1, inplace=False)\n            )\n            (output): BertSelfOutput(\n              (dense): Linear(in_features=768, out_features=768, bias=True)\n              (LayerNorm): LayerNorm((768,), eps=1e-05, elementwise_affine=True)\n              (dropout): Dropout(p=0.1, inplace=False)\n            )\n          )\n          (intermediate): BertIntermediate(\n            (dense): Linear(in_features=768, out_features=3072, bias=True)\n          )\n          (output): BertOutput(\n            (dense): Linear(in_features=3072, out_features=768, bias=True)\n            (LayerNorm): LayerNorm((768,), eps=1e-05, elementwise_affine=True)\n            (dropout): Dropout(p=0.1, inplace=False)\n          )\n        )\n        (9): BertLayer(\n          (attention): BertAttention(\n            (self): BertSelfAttention(\n              (query): Linear(in_features=768, out_features=768, bias=True)\n              (key): Linear(in_features=768, out_features=768, bias=True)\n              (value): Linear(in_features=768, out_features=768, bias=True)\n              (dropout): Dropout(p=0.1, inplace=False)\n            )\n            (output): BertSelfOutput(\n              (dense): Linear(in_features=768, out_features=768, bias=True)\n              (LayerNorm): LayerNorm((768,), eps=1e-05, elementwise_affine=True)\n              (dropout): Dropout(p=0.1, inplace=False)\n            )\n          )\n          (intermediate): BertIntermediate(\n            (dense): Linear(in_features=768, out_features=3072, bias=True)\n          )\n          (output): BertOutput(\n            (dense): Linear(in_features=3072, out_features=768, bias=True)\n            (LayerNorm): LayerNorm((768,), eps=1e-05, elementwise_affine=True)\n            (dropout): Dropout(p=0.1, inplace=False)\n          )\n        )\n        (10): BertLayer(\n          (attention): BertAttention(\n            (self): BertSelfAttention(\n              (query): Linear(in_features=768, out_features=768, bias=True)\n              (key): Linear(in_features=768, out_features=768, bias=True)\n              (value): Linear(in_features=768, out_features=768, bias=True)\n              (dropout): Dropout(p=0.1, inplace=False)\n            )\n            (output): BertSelfOutput(\n              (dense): Linear(in_features=768, out_features=768, bias=True)\n              (LayerNorm): LayerNorm((768,), eps=1e-05, elementwise_affine=True)\n              (dropout): Dropout(p=0.1, inplace=False)\n            )\n          )\n          (intermediate): BertIntermediate(\n            (dense): Linear(in_features=768, out_features=3072, bias=True)\n          )\n          (output): BertOutput(\n            (dense): Linear(in_features=3072, out_features=768, bias=True)\n            (LayerNorm): LayerNorm((768,), eps=1e-05, elementwise_affine=True)\n            (dropout): Dropout(p=0.1, inplace=False)\n          )\n        )\n        (11): BertLayer(\n          (attention): BertAttention(\n            (self): BertSelfAttention(\n              (query): Linear(in_features=768, out_features=768, bias=True)\n              (key): Linear(in_features=768, out_features=768, bias=True)\n              (value): Linear(in_features=768, out_features=768, bias=True)\n              (dropout): Dropout(p=0.1, inplace=False)\n            )\n            (output): BertSelfOutput(\n              (dense): Linear(in_features=768, out_features=768, bias=True)\n              (LayerNorm): LayerNorm((768,), eps=1e-05, elementwise_affine=True)\n              (dropout): Dropout(p=0.1, inplace=False)\n            )\n          )\n          (intermediate): BertIntermediate(\n            (dense): Linear(in_features=768, out_features=3072, bias=True)\n          )\n          (output): BertOutput(\n            (dense): Linear(in_features=3072, out_features=768, bias=True)\n            (LayerNorm): LayerNorm((768,), eps=1e-05, elementwise_affine=True)\n            (dropout): Dropout(p=0.1, inplace=False)\n          )\n        )\n      )\n    )\n    (pooler): BertPooler(\n      (dense): Linear(in_features=768, out_features=768, bias=True)\n      (activation): Tanh()\n    )\n  )\n  (rnns): ModuleList(\n    (0): WeightDropout(\n      (module): LSTM(768, 576, batch_first=True, bidirectional=True)\n    )\n    (1): WeightDropout(\n      (module): LSTM(1152, 384, batch_first=True, bidirectional=True)\n    )\n  )\n  (hidden_dps): ModuleList(\n    (0): RNNDropout()\n    (1): RNNDropout()\n  )\n  (out): Linear(in_features=768, out_features=2, bias=True)\n)"
     },
     "metadata": {}
    }
   ]
  },
  {
   "cell_type": "code",
   "source": [
    "from fastai.callbacks import *\n",
    "from transformers import AdamW\n",
    "from functools import partial\n",
    "\n",
    "CustomAdamW = partial(AdamW, correct_bias=False)\n",
    "\n",
    "learner = Learner(databunch, \n",
    "                  custom_transformer_model, \n",
    "                  opt_func = CustomAdamW, \n",
    "                  metrics=[accuracy, error_rate])\n",
    "\n",
    "# Show graph of learner stats and metrics after each epoch.\n",
    "learner.callbacks.append(ShowGraph(learner))\n",
    "\n",
    "# Put learn in FP16 precision mode. --> Seems to not working\n",
    "# if use_fp16: learner = learner.to_fp16()"
   ],
   "metadata": {
    "execution": {
     "iopub.status.busy": "2024-05-29T06:13:41.339709Z",
     "iopub.execute_input": "2024-05-29T06:13:41.340090Z",
     "iopub.status.idle": "2024-05-29T06:13:47.501655Z",
     "shell.execute_reply.started": "2024-05-29T06:13:41.340044Z",
     "shell.execute_reply": "2024-05-29T06:13:47.500625Z"
    },
    "trusted": true
   },
   "execution_count": 25,
   "outputs": []
  },
  {
   "cell_type": "code",
   "source": [
    "learner.data.valid_dl = valid_databunch.train_dl"
   ],
   "metadata": {
    "execution": {
     "iopub.status.busy": "2024-05-29T06:13:47.503203Z",
     "iopub.execute_input": "2024-05-29T06:13:47.503537Z",
     "iopub.status.idle": "2024-05-29T06:13:47.507833Z",
     "shell.execute_reply.started": "2024-05-29T06:13:47.503485Z",
     "shell.execute_reply": "2024-05-29T06:13:47.506799Z"
    },
    "trusted": true
   },
   "execution_count": 26,
   "outputs": []
  },
  {
   "cell_type": "code",
   "source": [
    "# For DistilBERT\n",
    "# list_layers = [learner.model.transformer.embeddings,\n",
    "#                learner.model.transformer.transformer.layer[0],\n",
    "#                learner.model.transformer.transformer.layer[1],\n",
    "#                learner.model.transformer.transformer.layer[2],\n",
    "#                learner.model.transformer.transformer.layer[3],\n",
    "#                learner.model.transformer.transformer.layer[4],\n",
    "#                learner.model.transformer.transformer.layer[5]]\n",
    "\n",
    "# For xlnet-base-cased\n",
    "# list_layers = [learner.model.transformer.word_embedding,\n",
    "#               learner.model.transformer.layer[0],\n",
    "#               learner.model.transformer.layer[1],\n",
    "#               learner.model.transformer.layer[2],\n",
    "#               learner.model.transformer.layer[3],\n",
    "#               learner.model.transformer.layer[4],\n",
    "#               learner.model.transformer.layer[5],\n",
    "#               learner.model.transformer.layer[6],\n",
    "#               learner.model.transformer.layer[7],\n",
    "#               learner.model.transformer.layer[8],\n",
    "#               learner.model.transformer.layer[9],\n",
    "#               learner.model.transformer.layer[10],\n",
    "#               learner.model.transformer.layer[11]]\n",
    "\n",
    "# For roberta-base\n",
    "list_layers = [learner.model.transformer.embeddings,\n",
    "              learner.model.transformer.encoder.layer[0],\n",
    "              learner.model.transformer.encoder.layer[1],\n",
    "              learner.model.transformer.encoder.layer[2],\n",
    "              learner.model.transformer.encoder.layer[3],\n",
    "              learner.model.transformer.encoder.layer[4],\n",
    "              learner.model.transformer.encoder.layer[5],\n",
    "              learner.model.transformer.encoder.layer[6],\n",
    "              learner.model.transformer.encoder.layer[7],\n",
    "              learner.model.transformer.encoder.layer[8],\n",
    "              learner.model.transformer.encoder.layer[9],\n",
    "              learner.model.transformer.encoder.layer[10],\n",
    "              learner.model.transformer.encoder.layer[11],\n",
    "              learner.model.transformer.pooler,\n",
    "              learner.model.rnns]"
   ],
   "metadata": {
    "execution": {
     "iopub.status.busy": "2024-05-29T06:13:47.509618Z",
     "iopub.execute_input": "2024-05-29T06:13:47.510044Z",
     "iopub.status.idle": "2024-05-29T06:13:49.298521Z",
     "shell.execute_reply.started": "2024-05-29T06:13:47.509988Z",
     "shell.execute_reply": "2024-05-29T06:13:49.297559Z"
    },
    "trusted": true
   },
   "execution_count": 27,
   "outputs": []
  },
  {
   "cell_type": "code",
   "source": [
    "learner.split(list_layers)\n",
    "num_groups = len(learner.layer_groups)\n",
    "print('Learner split in',num_groups,'groups')\n",
    "print(learner.layer_groups)\n"
   ],
   "metadata": {
    "execution": {
     "iopub.status.busy": "2024-05-29T06:13:49.300053Z",
     "iopub.execute_input": "2024-05-29T06:13:49.300455Z",
     "iopub.status.idle": "2024-05-29T06:13:49.351721Z",
     "shell.execute_reply.started": "2024-05-29T06:13:49.300407Z",
     "shell.execute_reply": "2024-05-29T06:13:49.350866Z"
    },
    "trusted": true
   },
   "execution_count": 28,
   "outputs": [
    {
     "name": "stdout",
     "text": "Learner split in 15 groups\n[Sequential(\n  (0): Embedding(50265, 768, padding_idx=1)\n  (1): Embedding(514, 768, padding_idx=1)\n  (2): Embedding(1, 768)\n  (3): LayerNorm((768,), eps=1e-05, elementwise_affine=True)\n  (4): Dropout(p=0.1, inplace=False)\n), Sequential(\n  (0): Linear(in_features=768, out_features=768, bias=True)\n  (1): Linear(in_features=768, out_features=768, bias=True)\n  (2): Linear(in_features=768, out_features=768, bias=True)\n  (3): Dropout(p=0.1, inplace=False)\n  (4): Linear(in_features=768, out_features=768, bias=True)\n  (5): LayerNorm((768,), eps=1e-05, elementwise_affine=True)\n  (6): Dropout(p=0.1, inplace=False)\n  (7): Linear(in_features=768, out_features=3072, bias=True)\n  (8): Linear(in_features=3072, out_features=768, bias=True)\n  (9): LayerNorm((768,), eps=1e-05, elementwise_affine=True)\n  (10): Dropout(p=0.1, inplace=False)\n), Sequential(\n  (0): Linear(in_features=768, out_features=768, bias=True)\n  (1): Linear(in_features=768, out_features=768, bias=True)\n  (2): Linear(in_features=768, out_features=768, bias=True)\n  (3): Dropout(p=0.1, inplace=False)\n  (4): Linear(in_features=768, out_features=768, bias=True)\n  (5): LayerNorm((768,), eps=1e-05, elementwise_affine=True)\n  (6): Dropout(p=0.1, inplace=False)\n  (7): Linear(in_features=768, out_features=3072, bias=True)\n  (8): Linear(in_features=3072, out_features=768, bias=True)\n  (9): LayerNorm((768,), eps=1e-05, elementwise_affine=True)\n  (10): Dropout(p=0.1, inplace=False)\n), Sequential(\n  (0): Linear(in_features=768, out_features=768, bias=True)\n  (1): Linear(in_features=768, out_features=768, bias=True)\n  (2): Linear(in_features=768, out_features=768, bias=True)\n  (3): Dropout(p=0.1, inplace=False)\n  (4): Linear(in_features=768, out_features=768, bias=True)\n  (5): LayerNorm((768,), eps=1e-05, elementwise_affine=True)\n  (6): Dropout(p=0.1, inplace=False)\n  (7): Linear(in_features=768, out_features=3072, bias=True)\n  (8): Linear(in_features=3072, out_features=768, bias=True)\n  (9): LayerNorm((768,), eps=1e-05, elementwise_affine=True)\n  (10): Dropout(p=0.1, inplace=False)\n), Sequential(\n  (0): Linear(in_features=768, out_features=768, bias=True)\n  (1): Linear(in_features=768, out_features=768, bias=True)\n  (2): Linear(in_features=768, out_features=768, bias=True)\n  (3): Dropout(p=0.1, inplace=False)\n  (4): Linear(in_features=768, out_features=768, bias=True)\n  (5): LayerNorm((768,), eps=1e-05, elementwise_affine=True)\n  (6): Dropout(p=0.1, inplace=False)\n  (7): Linear(in_features=768, out_features=3072, bias=True)\n  (8): Linear(in_features=3072, out_features=768, bias=True)\n  (9): LayerNorm((768,), eps=1e-05, elementwise_affine=True)\n  (10): Dropout(p=0.1, inplace=False)\n), Sequential(\n  (0): Linear(in_features=768, out_features=768, bias=True)\n  (1): Linear(in_features=768, out_features=768, bias=True)\n  (2): Linear(in_features=768, out_features=768, bias=True)\n  (3): Dropout(p=0.1, inplace=False)\n  (4): Linear(in_features=768, out_features=768, bias=True)\n  (5): LayerNorm((768,), eps=1e-05, elementwise_affine=True)\n  (6): Dropout(p=0.1, inplace=False)\n  (7): Linear(in_features=768, out_features=3072, bias=True)\n  (8): Linear(in_features=3072, out_features=768, bias=True)\n  (9): LayerNorm((768,), eps=1e-05, elementwise_affine=True)\n  (10): Dropout(p=0.1, inplace=False)\n), Sequential(\n  (0): Linear(in_features=768, out_features=768, bias=True)\n  (1): Linear(in_features=768, out_features=768, bias=True)\n  (2): Linear(in_features=768, out_features=768, bias=True)\n  (3): Dropout(p=0.1, inplace=False)\n  (4): Linear(in_features=768, out_features=768, bias=True)\n  (5): LayerNorm((768,), eps=1e-05, elementwise_affine=True)\n  (6): Dropout(p=0.1, inplace=False)\n  (7): Linear(in_features=768, out_features=3072, bias=True)\n  (8): Linear(in_features=3072, out_features=768, bias=True)\n  (9): LayerNorm((768,), eps=1e-05, elementwise_affine=True)\n  (10): Dropout(p=0.1, inplace=False)\n), Sequential(\n  (0): Linear(in_features=768, out_features=768, bias=True)\n  (1): Linear(in_features=768, out_features=768, bias=True)\n  (2): Linear(in_features=768, out_features=768, bias=True)\n  (3): Dropout(p=0.1, inplace=False)\n  (4): Linear(in_features=768, out_features=768, bias=True)\n  (5): LayerNorm((768,), eps=1e-05, elementwise_affine=True)\n  (6): Dropout(p=0.1, inplace=False)\n  (7): Linear(in_features=768, out_features=3072, bias=True)\n  (8): Linear(in_features=3072, out_features=768, bias=True)\n  (9): LayerNorm((768,), eps=1e-05, elementwise_affine=True)\n  (10): Dropout(p=0.1, inplace=False)\n), Sequential(\n  (0): Linear(in_features=768, out_features=768, bias=True)\n  (1): Linear(in_features=768, out_features=768, bias=True)\n  (2): Linear(in_features=768, out_features=768, bias=True)\n  (3): Dropout(p=0.1, inplace=False)\n  (4): Linear(in_features=768, out_features=768, bias=True)\n  (5): LayerNorm((768,), eps=1e-05, elementwise_affine=True)\n  (6): Dropout(p=0.1, inplace=False)\n  (7): Linear(in_features=768, out_features=3072, bias=True)\n  (8): Linear(in_features=3072, out_features=768, bias=True)\n  (9): LayerNorm((768,), eps=1e-05, elementwise_affine=True)\n  (10): Dropout(p=0.1, inplace=False)\n), Sequential(\n  (0): Linear(in_features=768, out_features=768, bias=True)\n  (1): Linear(in_features=768, out_features=768, bias=True)\n  (2): Linear(in_features=768, out_features=768, bias=True)\n  (3): Dropout(p=0.1, inplace=False)\n  (4): Linear(in_features=768, out_features=768, bias=True)\n  (5): LayerNorm((768,), eps=1e-05, elementwise_affine=True)\n  (6): Dropout(p=0.1, inplace=False)\n  (7): Linear(in_features=768, out_features=3072, bias=True)\n  (8): Linear(in_features=3072, out_features=768, bias=True)\n  (9): LayerNorm((768,), eps=1e-05, elementwise_affine=True)\n  (10): Dropout(p=0.1, inplace=False)\n), Sequential(\n  (0): Linear(in_features=768, out_features=768, bias=True)\n  (1): Linear(in_features=768, out_features=768, bias=True)\n  (2): Linear(in_features=768, out_features=768, bias=True)\n  (3): Dropout(p=0.1, inplace=False)\n  (4): Linear(in_features=768, out_features=768, bias=True)\n  (5): LayerNorm((768,), eps=1e-05, elementwise_affine=True)\n  (6): Dropout(p=0.1, inplace=False)\n  (7): Linear(in_features=768, out_features=3072, bias=True)\n  (8): Linear(in_features=3072, out_features=768, bias=True)\n  (9): LayerNorm((768,), eps=1e-05, elementwise_affine=True)\n  (10): Dropout(p=0.1, inplace=False)\n), Sequential(\n  (0): Linear(in_features=768, out_features=768, bias=True)\n  (1): Linear(in_features=768, out_features=768, bias=True)\n  (2): Linear(in_features=768, out_features=768, bias=True)\n  (3): Dropout(p=0.1, inplace=False)\n  (4): Linear(in_features=768, out_features=768, bias=True)\n  (5): LayerNorm((768,), eps=1e-05, elementwise_affine=True)\n  (6): Dropout(p=0.1, inplace=False)\n  (7): Linear(in_features=768, out_features=3072, bias=True)\n  (8): Linear(in_features=3072, out_features=768, bias=True)\n  (9): LayerNorm((768,), eps=1e-05, elementwise_affine=True)\n  (10): Dropout(p=0.1, inplace=False)\n), Sequential(\n  (0): Linear(in_features=768, out_features=768, bias=True)\n  (1): Linear(in_features=768, out_features=768, bias=True)\n  (2): Linear(in_features=768, out_features=768, bias=True)\n  (3): Dropout(p=0.1, inplace=False)\n  (4): Linear(in_features=768, out_features=768, bias=True)\n  (5): LayerNorm((768,), eps=1e-05, elementwise_affine=True)\n  (6): Dropout(p=0.1, inplace=False)\n  (7): Linear(in_features=768, out_features=3072, bias=True)\n  (8): Linear(in_features=3072, out_features=768, bias=True)\n  (9): LayerNorm((768,), eps=1e-05, elementwise_affine=True)\n  (10): Dropout(p=0.1, inplace=False)\n), Sequential(\n  (0): Linear(in_features=768, out_features=768, bias=True)\n  (1): Tanh()\n), Sequential(\n  (0): LSTM(768, 576, batch_first=True, bidirectional=True)\n  (1): ParameterModule()\n  (2): LSTM(1152, 384, batch_first=True, bidirectional=True)\n  (3): ParameterModule()\n  (4): RNNDropout()\n  (5): RNNDropout()\n  (6): Linear(in_features=768, out_features=2, bias=True)\n)]\n",
     "output_type": "stream"
    }
   ]
  },
  {
   "cell_type": "code",
   "source": [
    "learner.save('untrain')\n",
    "seed_all(seed)\n",
    "learner.load('untrain');"
   ],
   "metadata": {
    "execution": {
     "iopub.status.busy": "2024-05-29T06:13:49.353001Z",
     "iopub.execute_input": "2024-05-29T06:13:49.353458Z",
     "iopub.status.idle": "2024-05-29T06:13:50.334255Z",
     "shell.execute_reply.started": "2024-05-29T06:13:49.353393Z",
     "shell.execute_reply": "2024-05-29T06:13:50.333515Z"
    },
    "trusted": true
   },
   "execution_count": 29,
   "outputs": []
  },
  {
   "cell_type": "code",
   "source": [
    "learner.model.reset()\n",
    "learner.freeze_to(-1)"
   ],
   "metadata": {
    "execution": {
     "iopub.status.busy": "2024-05-29T06:13:50.335829Z",
     "iopub.execute_input": "2024-05-29T06:13:50.336130Z",
     "iopub.status.idle": "2024-05-29T06:13:50.347308Z",
     "shell.execute_reply.started": "2024-05-29T06:13:50.336088Z",
     "shell.execute_reply": "2024-05-29T06:13:50.346536Z"
    },
    "trusted": true
   },
   "execution_count": 30,
   "outputs": []
  },
  {
   "cell_type": "code",
   "source": [
    "learner.fit_one_cycle(1,max_lr=1e-3,moms=(0.8,0.7))"
   ],
   "metadata": {
    "execution": {
     "iopub.status.busy": "2024-05-29T06:13:50.348643Z",
     "iopub.execute_input": "2024-05-29T06:13:50.349004Z",
     "iopub.status.idle": "2024-05-29T06:16:09.449392Z",
     "shell.execute_reply.started": "2024-05-29T06:13:50.348957Z",
     "shell.execute_reply": "2024-05-29T06:16:09.448033Z"
    },
    "trusted": true
   },
   "execution_count": 31,
   "outputs": [
    {
     "output_type": "display_data",
     "data": {
      "text/plain": "<IPython.core.display.HTML object>",
      "text/html": "<table border=\"1\" class=\"dataframe\">\n  <thead>\n    <tr style=\"text-align: left;\">\n      <th>epoch</th>\n      <th>train_loss</th>\n      <th>valid_loss</th>\n      <th>accuracy</th>\n      <th>error_rate</th>\n      <th>time</th>\n    </tr>\n  </thead>\n  <tbody>\n    <tr>\n      <td>0</td>\n      <td>0.307137</td>\n      <td>0.236553</td>\n      <td>0.913194</td>\n      <td>0.086806</td>\n      <td>02:18</td>\n    </tr>\n  </tbody>\n</table>"
     },
     "metadata": {}
    },
    {
     "output_type": "display_data",
     "data": {
      "text/plain": "<Figure size 432x288 with 1 Axes>",
      "image/png": "[encoded data removed]"
     },
     "metadata": {}
    }
   ]
  },
  {
   "cell_type": "code",
   "source": [
    "learner.validate(test_databunch.train_dl)"
   ],
   "metadata": {
    "execution": {
     "iopub.status.busy": "2024-05-29T06:16:09.457910Z",
     "iopub.execute_input": "2024-05-29T06:16:09.458702Z",
     "iopub.status.idle": "2024-05-29T06:26:54.595380Z",
     "shell.execute_reply.started": "2024-05-29T06:16:09.458621Z",
     "shell.execute_reply": "2024-05-29T06:26:54.593743Z"
    },
    "trusted": true
   },
   "execution_count": 32,
   "outputs": [
    {
     "output_type": "display_data",
     "data": {
      "text/plain": "<IPython.core.display.HTML object>",
      "text/html": ""
     },
     "metadata": {}
    },
    {
     "execution_count": 32,
     "output_type": "execute_result",
     "data": {
      "text/plain": "[0.38462976, tensor(0.8205), tensor(0.1795)]"
     },
     "metadata": {}
    }
   ]
  },
  {
   "cell_type": "code",
   "source": [
    "learner.freeze_to(-6)\n",
    "lr = 1e-4\n",
    "learner.fit_one_cycle(1, max_lr=slice(lr*0.95**num_groups, lr), moms=(0.8, 0.9))"
   ],
   "metadata": {
    "execution": {
     "iopub.status.busy": "2024-05-29T06:26:54.599500Z",
     "iopub.execute_input": "2024-05-29T06:26:54.600430Z",
     "iopub.status.idle": "2024-05-29T06:30:26.872118Z",
     "shell.execute_reply.started": "2024-05-29T06:26:54.600336Z",
     "shell.execute_reply": "2024-05-29T06:30:26.870753Z"
    },
    "trusted": true
   },
   "execution_count": 33,
   "outputs": [
    {
     "output_type": "display_data",
     "data": {
      "text/plain": "<IPython.core.display.HTML object>",
      "text/html": "<table border=\"1\" class=\"dataframe\">\n  <thead>\n    <tr style=\"text-align: left;\">\n      <th>epoch</th>\n      <th>train_loss</th>\n      <th>valid_loss</th>\n      <th>accuracy</th>\n      <th>error_rate</th>\n      <th>time</th>\n    </tr>\n  </thead>\n  <tbody>\n    <tr>\n      <td>0</td>\n      <td>0.252643</td>\n      <td>0.187605</td>\n      <td>0.936343</td>\n      <td>0.063657</td>\n      <td>03:31</td>\n    </tr>\n  </tbody>\n</table>"
     },
     "metadata": {}
    },
    {
     "output_type": "display_data",
     "data": {
      "text/plain": "<Figure size 432x288 with 1 Axes>",
      "image/png": "[encoded data removed]"
     },
     "metadata": {}
    }
   ]
  },
  {
   "cell_type": "code",
   "source": [
    "lr = 8e-7\n",
    "learner.fit_one_cycle(1, max_lr=slice(lr*0.95**num_groups, lr), moms=(0.8, 0.9))"
   ],
   "metadata": {
    "execution": {
     "iopub.status.busy": "2024-05-29T06:30:26.874490Z",
     "iopub.execute_input": "2024-05-29T06:30:26.875267Z",
     "iopub.status.idle": "2024-05-29T06:33:56.057268Z",
     "shell.execute_reply.started": "2024-05-29T06:30:26.875181Z",
     "shell.execute_reply": "2024-05-29T06:33:56.055815Z"
    },
    "trusted": true
   },
   "execution_count": 34,
   "outputs": [
    {
     "output_type": "display_data",
     "data": {
      "text/plain": "<IPython.core.display.HTML object>",
      "text/html": "<table border=\"1\" class=\"dataframe\">\n  <thead>\n    <tr style=\"text-align: left;\">\n      <th>epoch</th>\n      <th>train_loss</th>\n      <th>valid_loss</th>\n      <th>accuracy</th>\n      <th>error_rate</th>\n      <th>time</th>\n    </tr>\n  </thead>\n  <tbody>\n    <tr>\n      <td>0</td>\n      <td>0.241882</td>\n      <td>0.189473</td>\n      <td>0.939815</td>\n      <td>0.060185</td>\n      <td>03:28</td>\n    </tr>\n  </tbody>\n</table>"
     },
     "metadata": {}
    },
    {
     "output_type": "display_data",
     "data": {
      "text/plain": "<Figure size 432x288 with 1 Axes>",
      "image/png": "[encoded data removed]"
     },
     "metadata": {}
    }
   ]
  },
  {
   "cell_type": "code",
   "source": [
    "learner.validate(test_databunch.train_dl)"
   ],
   "metadata": {
    "execution": {
     "iopub.status.busy": "2024-05-29T06:33:56.059650Z",
     "iopub.execute_input": "2024-05-29T06:33:56.060443Z",
     "iopub.status.idle": "2024-05-29T06:46:10.393753Z",
     "shell.execute_reply.started": "2024-05-29T06:33:56.060364Z",
     "shell.execute_reply": "2024-05-29T06:46:10.392180Z"
    },
    "trusted": true
   },
   "execution_count": 35,
   "outputs": [
    {
     "output_type": "display_data",
     "data": {
      "text/plain": "<IPython.core.display.HTML object>",
      "text/html": ""
     },
     "metadata": {}
    },
    {
     "execution_count": 35,
     "output_type": "execute_result",
     "data": {
      "text/plain": "[0.22217721, tensor(0.9156), tensor(0.0844)]"
     },
     "metadata": {}
    }
   ]
  },
  {
   "cell_type": "code",
   "source": [
    "learner.fit_one_cycle(1, max_lr=slice(lr*0.95**num_groups, lr), moms=(0.8, 0.9))"
   ],
   "metadata": {
    "execution": {
     "iopub.status.busy": "2024-05-29T06:46:10.396258Z",
     "iopub.execute_input": "2024-05-29T06:46:10.397041Z",
     "iopub.status.idle": "2024-05-29T06:49:41.173921Z",
     "shell.execute_reply.started": "2024-05-29T06:46:10.396964Z",
     "shell.execute_reply": "2024-05-29T06:49:41.172903Z"
    },
    "trusted": true
   },
   "execution_count": 36,
   "outputs": [
    {
     "output_type": "display_data",
     "data": {
      "text/plain": "<IPython.core.display.HTML object>",
      "text/html": "<table border=\"1\" class=\"dataframe\">\n  <thead>\n    <tr style=\"text-align: left;\">\n      <th>epoch</th>\n      <th>train_loss</th>\n      <th>valid_loss</th>\n      <th>accuracy</th>\n      <th>error_rate</th>\n      <th>time</th>\n    </tr>\n  </thead>\n  <tbody>\n    <tr>\n      <td>0</td>\n      <td>0.214810</td>\n      <td>0.194051</td>\n      <td>0.940972</td>\n      <td>0.059028</td>\n      <td>03:29</td>\n    </tr>\n  </tbody>\n</table>"
     },
     "metadata": {}
    },
    {
     "output_type": "display_data",
     "data": {
      "text/plain": "<Figure size 432x288 with 1 Axes>",
      "image/png": "[encoded data removed]"
     },
     "metadata": {}
    }
   ]
  },
  {
   "cell_type": "code",
   "source": [
    "learner.validate(test_databunch.train_dl)"
   ],
   "metadata": {
    "execution": {
     "iopub.status.busy": "2024-05-29T06:49:41.175920Z",
     "iopub.execute_input": "2024-05-29T06:49:41.176589Z",
     "iopub.status.idle": "2024-05-29T07:02:30.417502Z",
     "shell.execute_reply.started": "2024-05-29T06:49:41.176528Z",
     "shell.execute_reply": "2024-05-29T07:02:30.416078Z"
    },
    "trusted": true
   },
   "execution_count": 37,
   "outputs": [
    {
     "output_type": "display_data",
     "data": {
      "text/plain": "<IPython.core.display.HTML object>",
      "text/html": ""
     },
     "metadata": {}
    },
    {
     "execution_count": 37,
     "output_type": "execute_result",
     "data": {
      "text/plain": "[0.22414586, tensor(0.9156), tensor(0.0844)]"
     },
     "metadata": {}
    }
   ]
  },
  {
   "cell_type": "code",
   "source": [
    "learner.unfreeze()\n",
    "\n",
    "learner.fit_one_cycle(3, max_lr=slice(lr*0.95**num_groups, lr), moms=(0.8, 0.9))"
   ],
   "metadata": {
    "execution": {
     "iopub.status.busy": "2024-05-29T07:02:30.420105Z",
     "iopub.execute_input": "2024-05-29T07:02:30.420888Z",
     "iopub.status.idle": "2024-05-29T07:22:29.686256Z",
     "shell.execute_reply.started": "2024-05-29T07:02:30.420648Z",
     "shell.execute_reply": "2024-05-29T07:22:29.684873Z"
    },
    "trusted": true
   },
   "execution_count": 38,
   "outputs": [
    {
     "output_type": "display_data",
     "data": {
      "text/plain": "<IPython.core.display.HTML object>",
      "text/html": "<table border=\"1\" class=\"dataframe\">\n  <thead>\n    <tr style=\"text-align: left;\">\n      <th>epoch</th>\n      <th>train_loss</th>\n      <th>valid_loss</th>\n      <th>accuracy</th>\n      <th>error_rate</th>\n      <th>time</th>\n    </tr>\n  </thead>\n  <tbody>\n    <tr>\n      <td>0</td>\n      <td>0.148547</td>\n      <td>0.189316</td>\n      <td>0.943287</td>\n      <td>0.056713</td>\n      <td>06:45</td>\n    </tr>\n    <tr>\n      <td>1</td>\n      <td>0.137018</td>\n      <td>0.184006</td>\n      <td>0.944444</td>\n      <td>0.055556</td>\n      <td>06:33</td>\n    </tr>\n    <tr>\n      <td>2</td>\n      <td>0.119855</td>\n      <td>0.179825</td>\n      <td>0.945602</td>\n      <td>0.054398</td>\n      <td>06:38</td>\n    </tr>\n  </tbody>\n</table>"
     },
     "metadata": {}
    },
    {
     "output_type": "display_data",
     "data": {
      "text/plain": "<Figure size 432x288 with 1 Axes>",
      "image/png": "[encoded data removed]"
     },
     "metadata": {}
    }
   ]
  },
  {
   "cell_type": "code",
   "source": [
    "learner.validate(test_databunch.train_dl)"
   ],
   "metadata": {
    "execution": {
     "iopub.status.busy": "2024-05-29T07:22:29.688946Z",
     "iopub.execute_input": "2024-05-29T07:22:29.689770Z",
     "iopub.status.idle": "2024-05-29T07:33:09.866685Z",
     "shell.execute_reply.started": "2024-05-29T07:22:29.689688Z",
     "shell.execute_reply": "2024-05-29T07:33:09.865340Z"
    },
    "trusted": true
   },
   "execution_count": 39,
   "outputs": [
    {
     "output_type": "display_data",
     "data": {
      "text/plain": "<IPython.core.display.HTML object>",
      "text/html": ""
     },
     "metadata": {}
    },
    {
     "execution_count": 39,
     "output_type": "execute_result",
     "data": {
      "text/plain": "[0.22077005, tensor(0.9176), tensor(0.0824)]"
     },
     "metadata": {}
    }
   ]
  },
  {
   "cell_type": "code",
   "source": [
    "learner.fit_one_cycle(5, max_lr=slice(lr*0.95**num_groups, lr), moms=(0.8, 0.9))"
   ],
   "metadata": {
    "execution": {
     "iopub.status.busy": "2024-05-29T07:33:09.869038Z",
     "iopub.execute_input": "2024-05-29T07:33:09.869929Z",
     "iopub.status.idle": "2024-05-29T08:07:19.425309Z",
     "shell.execute_reply.started": "2024-05-29T07:33:09.869852Z",
     "shell.execute_reply": "2024-05-29T08:07:19.423734Z"
    },
    "trusted": true
   },
   "execution_count": 40,
   "outputs": [
    {
     "output_type": "display_data",
     "data": {
      "text/plain": "<IPython.core.display.HTML object>",
      "text/html": "<table border=\"1\" class=\"dataframe\">\n  <thead>\n    <tr style=\"text-align: left;\">\n      <th>epoch</th>\n      <th>train_loss</th>\n      <th>valid_loss</th>\n      <th>accuracy</th>\n      <th>error_rate</th>\n      <th>time</th>\n    </tr>\n  </thead>\n  <tbody>\n    <tr>\n      <td>0</td>\n      <td>0.131838</td>\n      <td>0.176303</td>\n      <td>0.945602</td>\n      <td>0.054398</td>\n      <td>06:52</td>\n    </tr>\n    <tr>\n      <td>1</td>\n      <td>0.142890</td>\n      <td>0.180469</td>\n      <td>0.943287</td>\n      <td>0.056713</td>\n      <td>06:30</td>\n    </tr>\n    <tr>\n      <td>2</td>\n      <td>0.124350</td>\n      <td>0.177981</td>\n      <td>0.946759</td>\n      <td>0.053241</td>\n      <td>06:58</td>\n    </tr>\n    <tr>\n      <td>3</td>\n      <td>0.111512</td>\n      <td>0.189382</td>\n      <td>0.945602</td>\n      <td>0.054398</td>\n      <td>06:57</td>\n    </tr>\n    <tr>\n      <td>4</td>\n      <td>0.107216</td>\n      <td>0.178930</td>\n      <td>0.946759</td>\n      <td>0.053241</td>\n      <td>06:46</td>\n    </tr>\n  </tbody>\n</table>"
     },
     "metadata": {}
    },
    {
     "output_type": "display_data",
     "data": {
      "text/plain": "<Figure size 432x288 with 1 Axes>",
      "image/png": "[encoded data removed]"
     },
     "metadata": {}
    }
   ]
  },
  {
   "cell_type": "code",
   "source": [
    "learner.validate(test_databunch.train_dl)"
   ],
   "metadata": {
    "execution": {
     "iopub.status.busy": "2024-05-29T08:07:19.428124Z",
     "iopub.execute_input": "2024-05-29T08:07:19.428890Z",
     "iopub.status.idle": "2024-05-29T08:19:49.909734Z",
     "shell.execute_reply.started": "2024-05-29T08:07:19.428641Z",
     "shell.execute_reply": "2024-05-29T08:19:49.908369Z"
    },
    "trusted": true
   },
   "execution_count": 41,
   "outputs": [
    {
     "output_type": "display_data",
     "data": {
      "text/plain": "<IPython.core.display.HTML object>",
      "text/html": ""
     },
     "metadata": {}
    },
    {
     "execution_count": 41,
     "output_type": "execute_result",
     "data": {
      "text/plain": "[0.23204678, tensor(0.9184), tensor(0.0816)]"
     },
     "metadata": {}
    }
   ]
  },
  {
   "cell_type": "code",
   "source": [
    "learner.fit_one_cycle(10, max_lr=slice(lr*0.95**num_groups, lr))"
   ],
   "metadata": {
    "execution": {
     "iopub.status.busy": "2024-05-29T08:19:49.912507Z",
     "iopub.execute_input": "2024-05-29T08:19:49.913566Z",
     "iopub.status.idle": "2024-05-29T09:27:58.037876Z",
     "shell.execute_reply.started": "2024-05-29T08:19:49.913479Z",
     "shell.execute_reply": "2024-05-29T09:27:58.036318Z"
    },
    "trusted": true
   },
   "execution_count": 42,
   "outputs": [
    {
     "output_type": "display_data",
     "data": {
      "text/plain": "<IPython.core.display.HTML object>",
      "text/html": "<table border=\"1\" class=\"dataframe\">\n  <thead>\n    <tr style=\"text-align: left;\">\n      <th>epoch</th>\n      <th>train_loss</th>\n      <th>valid_loss</th>\n      <th>accuracy</th>\n      <th>error_rate</th>\n      <th>time</th>\n    </tr>\n  </thead>\n  <tbody>\n    <tr>\n      <td>0</td>\n      <td>0.124885</td>\n      <td>0.180153</td>\n      <td>0.946759</td>\n      <td>0.053241</td>\n      <td>06:32</td>\n    </tr>\n    <tr>\n      <td>1</td>\n      <td>0.113167</td>\n      <td>0.186625</td>\n      <td>0.952546</td>\n      <td>0.047454</td>\n      <td>06:52</td>\n    </tr>\n    <tr>\n      <td>2</td>\n      <td>0.126242</td>\n      <td>0.193694</td>\n      <td>0.943287</td>\n      <td>0.056713</td>\n      <td>06:43</td>\n    </tr>\n    <tr>\n      <td>3</td>\n      <td>0.089033</td>\n      <td>0.199561</td>\n      <td>0.947917</td>\n      <td>0.052083</td>\n      <td>06:59</td>\n    </tr>\n    <tr>\n      <td>4</td>\n      <td>0.081167</td>\n      <td>0.184178</td>\n      <td>0.949074</td>\n      <td>0.050926</td>\n      <td>06:53</td>\n    </tr>\n    <tr>\n      <td>5</td>\n      <td>0.099088</td>\n      <td>0.203704</td>\n      <td>0.946759</td>\n      <td>0.053241</td>\n      <td>06:37</td>\n    </tr>\n    <tr>\n      <td>6</td>\n      <td>0.081112</td>\n      <td>0.204826</td>\n      <td>0.951389</td>\n      <td>0.048611</td>\n      <td>06:44</td>\n    </tr>\n    <tr>\n      <td>7</td>\n      <td>0.075422</td>\n      <td>0.195436</td>\n      <td>0.949074</td>\n      <td>0.050926</td>\n      <td>06:47</td>\n    </tr>\n    <tr>\n      <td>8</td>\n      <td>0.093727</td>\n      <td>0.200381</td>\n      <td>0.950231</td>\n      <td>0.049769</td>\n      <td>07:02</td>\n    </tr>\n    <tr>\n      <td>9</td>\n      <td>0.083027</td>\n      <td>0.204536</td>\n      <td>0.946759</td>\n      <td>0.053241</td>\n      <td>06:45</td>\n    </tr>\n  </tbody>\n</table>"
     },
     "metadata": {}
    },
    {
     "output_type": "display_data",
     "data": {
      "text/plain": "<Figure size 432x288 with 1 Axes>",
      "image/png": "[encoded data removed]"
     },
     "metadata": {}
    }
   ]
  },
  {
   "cell_type": "code",
   "source": [
    "interp = ClassificationInterpretation.from_learner(learner)\n",
    "\n",
    "interp "
   ],
   "metadata": {
    "execution": {
     "iopub.status.busy": "2024-05-29T09:27:58.040585Z",
     "iopub.execute_input": "2024-05-29T09:27:58.041384Z",
     "iopub.status.idle": "2024-05-29T09:27:59.845333Z",
     "shell.execute_reply.started": "2024-05-29T09:27:58.041303Z",
     "shell.execute_reply": "2024-05-29T09:27:59.844312Z"
    },
    "trusted": true
   },
   "execution_count": 43,
   "outputs": [
    {
     "output_type": "display_data",
     "data": {
      "text/plain": "<IPython.core.display.HTML object>",
      "text/html": ""
     },
     "metadata": {}
    },
    {
     "execution_count": 43,
     "output_type": "execute_result",
     "data": {
      "text/plain": "<fastai.train.ClassificationInterpretation at 0x7fbf5aed66a0>"
     },
     "metadata": {}
    }
   ]
  },
  {
   "cell_type": "code",
   "source": [
    "from sklearn.metrics import classification_report\n",
    "\n",
    "interp = ClassificationInterpretation.from_learner(learner)\n",
    "\n",
    "interp.plot_confusion_matrix(figsize=(10,10), dpi=60)\n",
    "\n",
    "y_true = interp.preds.argmax(dim=1)\n",
    "y_pred = interp.y_true\n",
    "\n",
    "# Print the classification report\n",
    "report = classification_report(y_true, y_pred)\n",
    "print(report)"
   ],
   "metadata": {
    "execution": {
     "iopub.status.busy": "2024-05-29T09:35:20.851481Z",
     "iopub.execute_input": "2024-05-29T09:35:20.851895Z",
     "iopub.status.idle": "2024-05-29T09:35:22.977953Z",
     "shell.execute_reply.started": "2024-05-29T09:35:20.851847Z",
     "shell.execute_reply": "2024-05-29T09:35:22.976546Z"
    },
    "trusted": true
   },
   "execution_count": 56,
   "outputs": [
    {
     "output_type": "display_data",
     "data": {
      "text/plain": "<IPython.core.display.HTML object>",
      "text/html": ""
     },
     "metadata": {}
    },
    {
     "name": "stdout",
     "text": "              precision    recall  f1-score   support\n\n           0       0.94      0.96      0.95       413\n           1       0.96      0.94      0.95       451\n\n    accuracy                           0.95       864\n   macro avg       0.95      0.95      0.95       864\nweighted avg       0.95      0.95      0.95       864\n\n",
     "output_type": "stream"
    },
    {
     "output_type": "display_data",
     "data": {
      "text/plain": "<Figure size 600x600 with 1 Axes>",
      "image/png": "[encoded data removed]"
     },
     "metadata": {
      "needs_background": "light"
     }
    }
   ]
  }
 ]
}
