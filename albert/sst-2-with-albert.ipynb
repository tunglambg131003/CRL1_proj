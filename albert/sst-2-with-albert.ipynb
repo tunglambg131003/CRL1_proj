{
 "metadata": {
  "kernelspec": {
   "language": "python",
   "display_name": "Python 3",
   "name": "python3"
  },
  "language_info": {
   "name": "python",
   "version": "3.6.6",
   "mimetype": "text/x-python",
   "codemirror_mode": {
    "name": "ipython",
    "version": 3
   },
   "pygments_lexer": "ipython3",
   "nbconvert_exporter": "python",
   "file_extension": ".py"
  },
  "kaggle": {
   "accelerator": "gpu",
   "dataSources": [
    {
     "sourceId": 320111,
     "sourceType": "datasetVersion",
     "datasetId": 134715
    },
    {
     "sourceId": 1027970,
     "sourceType": "datasetVersion",
     "datasetId": 566161
    },
    {
     "sourceId": 1031443,
     "sourceType": "datasetVersion",
     "datasetId": 568433
    },
    {
     "sourceId": 1044874,
     "sourceType": "datasetVersion",
     "datasetId": 577285
    },
    {
     "sourceId": 8535935,
     "sourceType": "datasetVersion",
     "datasetId": 5098610
    }
   ],
   "dockerImageVersionId": 29862,
   "isInternetEnabled": true,
   "language": "python",
   "sourceType": "notebook",
   "isGpuEnabled": true
  }
 },
 "nbformat_minor": 4,
 "nbformat": 4,
 "cells": [
  {
   "cell_type": "code",
   "source": [
    "%%bash\n",
    "pip install -q transformers"
   ],
   "metadata": {
    "_uuid": "8f2839f25d086af736a60e9eeb907d3b93b6e0e5",
    "_cell_guid": "b1076dfc-b9ad-4769-8c92-a6c4dae69d19",
    "execution": {
     "iopub.status.busy": "2024-05-28T03:14:52.112759Z",
     "iopub.execute_input": "2024-05-28T03:14:52.113142Z",
     "iopub.status.idle": "2024-05-28T03:14:59.595477Z",
     "shell.execute_reply.started": "2024-05-28T03:14:52.113083Z",
     "shell.execute_reply": "2024-05-28T03:14:59.594381Z"
    },
    "trusted": true
   },
   "execution_count": 1,
   "outputs": []
  },
  {
   "cell_type": "code",
   "source": [
    "import numpy as np # linear algebra\n",
    "import pandas as pd # data processing, CSV file I/O (e.g. pd.read_csv)\n",
    "from pathlib import Path \n",
    "\n",
    "import os\n",
    "\n",
    "import torch\n",
    "import torch.optim as optim\n",
    "\n",
    "import random \n",
    "\n",
    "# fastai\n",
    "from fastai import *\n",
    "from fastai.text import *\n",
    "from fastai.callbacks import *\n",
    "\n",
    "# transformers\n",
    "from transformers import PreTrainedModel, PreTrainedTokenizer, PretrainedConfig\n",
    "\n",
    "from transformers import BertForSequenceClassification, BertTokenizer, BertConfig\n",
    "from transformers import RobertaForSequenceClassification, RobertaTokenizer, RobertaConfig\n",
    "from transformers import XLNetForSequenceClassification, XLNetTokenizer, XLNetConfig\n",
    "from transformers import XLMForSequenceClassification, XLMTokenizer, XLMConfig\n",
    "from transformers import DistilBertForSequenceClassification, DistilBertTokenizer, DistilBertConfig"
   ],
   "metadata": {
    "_uuid": "d629ff2d2480ee46fbb7e2d37f6b5fab8052498a",
    "_cell_guid": "79c7e3d0-c299-4dcb-8224-4455121ee9b0",
    "execution": {
     "iopub.status.busy": "2024-05-28T03:14:59.598077Z",
     "iopub.execute_input": "2024-05-28T03:14:59.598538Z",
     "iopub.status.idle": "2024-05-28T03:15:08.398380Z",
     "shell.execute_reply.started": "2024-05-28T03:14:59.598478Z",
     "shell.execute_reply": "2024-05-28T03:15:08.397516Z"
    },
    "trusted": true
   },
   "execution_count": 2,
   "outputs": []
  },
  {
   "cell_type": "code",
   "source": [
    "import fastai\n",
    "import transformers\n",
    "print('fastai version :', fastai.__version__)\n",
    "print('transformers version :', transformers.__version__)"
   ],
   "metadata": {
    "execution": {
     "iopub.status.busy": "2024-05-28T03:15:08.399701Z",
     "iopub.execute_input": "2024-05-28T03:15:08.400041Z",
     "iopub.status.idle": "2024-05-28T03:15:08.412931Z",
     "shell.execute_reply.started": "2024-05-28T03:15:08.399992Z",
     "shell.execute_reply": "2024-05-28T03:15:08.411972Z"
    },
    "trusted": true
   },
   "execution_count": 3,
   "outputs": [
    {
     "name": "stdout",
     "text": "fastai version : 1.0.60\ntransformers version : 2.5.1\n",
     "output_type": "stream"
    }
   ]
  },
  {
   "cell_type": "code",
   "source": [
    "import pandas as pd\n",
    "from sklearn.model_selection import train_test_split\n",
    "train = pd.read_csv(\"/kaggle/input/sst-2-dataset/train.csv\")\n",
    "validation = pd.read_csv(\"/kaggle/input/sst-2-dataset/validation.csv\")\n",
    "test = pd.read_csv(\"/kaggle/input/imdb-dataset-of-50k-movie-reviews/IMDB Dataset.csv\")\n",
    "print(train.shape,test.shape)"
   ],
   "metadata": {
    "execution": {
     "iopub.status.busy": "2024-05-28T03:15:08.414880Z",
     "iopub.execute_input": "2024-05-28T03:15:08.415380Z",
     "iopub.status.idle": "2024-05-28T03:15:09.616881Z",
     "shell.execute_reply.started": "2024-05-28T03:15:08.415155Z",
     "shell.execute_reply": "2024-05-28T03:15:09.615906Z"
    },
    "trusted": true
   },
   "execution_count": 4,
   "outputs": [
    {
     "name": "stdout",
     "text": "(67349, 3) (50000, 2)\n",
     "output_type": "stream"
    }
   ]
  },
  {
   "cell_type": "code",
   "source": [
    "train.head()"
   ],
   "metadata": {
    "execution": {
     "iopub.status.busy": "2024-05-28T03:15:09.619882Z",
     "iopub.execute_input": "2024-05-28T03:15:09.620343Z",
     "iopub.status.idle": "2024-05-28T03:15:09.643197Z",
     "shell.execute_reply.started": "2024-05-28T03:15:09.620162Z",
     "shell.execute_reply": "2024-05-28T03:15:09.642276Z"
    },
    "trusted": true
   },
   "execution_count": 5,
   "outputs": [
    {
     "execution_count": 5,
     "output_type": "execute_result",
     "data": {
      "text/plain": "   idx                                           sentence  label\n0    0       hide new secretions from the parental units       0\n1    1               contains no wit , only labored gags       0\n2    2  that loves its characters and communicates som...      1\n3    3  remains utterly satisfied to remain the same t...      0\n4    4  on the worst revenge-of-the-nerds clichés the ...      0",
      "text/html": "<div>\n<style scoped>\n    .dataframe tbody tr th:only-of-type {\n        vertical-align: middle;\n    }\n\n    .dataframe tbody tr th {\n        vertical-align: top;\n    }\n\n    .dataframe thead th {\n        text-align: right;\n    }\n</style>\n<table border=\"1\" class=\"dataframe\">\n  <thead>\n    <tr style=\"text-align: right;\">\n      <th></th>\n      <th>idx</th>\n      <th>sentence</th>\n      <th>label</th>\n    </tr>\n  </thead>\n  <tbody>\n    <tr>\n      <th>0</th>\n      <td>0</td>\n      <td>hide new secretions from the parental units</td>\n      <td>0</td>\n    </tr>\n    <tr>\n      <th>1</th>\n      <td>1</td>\n      <td>contains no wit , only labored gags</td>\n      <td>0</td>\n    </tr>\n    <tr>\n      <th>2</th>\n      <td>2</td>\n      <td>that loves its characters and communicates som...</td>\n      <td>1</td>\n    </tr>\n    <tr>\n      <th>3</th>\n      <td>3</td>\n      <td>remains utterly satisfied to remain the same t...</td>\n      <td>0</td>\n    </tr>\n    <tr>\n      <th>4</th>\n      <td>4</td>\n      <td>on the worst revenge-of-the-nerds clichés the ...</td>\n      <td>0</td>\n    </tr>\n  </tbody>\n</table>\n</div>"
     },
     "metadata": {}
    }
   ]
  },
  {
   "cell_type": "code",
   "source": [
    "test.rename(columns={'review': 'sentence', 'sentiment': 'label'}, inplace=True)\n",
    "\n",
    "test['label'] = test['label'].map({'negative': 0, 'positive': 1})\n",
    "\n",
    "output_path = \"/kaggle/working/modified_imdb_dataset.csv\"\n",
    "test.to_csv(output_path, index=False)\n",
    "\n",
    "test.head()"
   ],
   "metadata": {
    "execution": {
     "iopub.status.busy": "2024-05-28T03:15:09.646727Z",
     "iopub.execute_input": "2024-05-28T03:15:09.647033Z",
     "iopub.status.idle": "2024-05-28T03:15:12.833488Z",
     "shell.execute_reply.started": "2024-05-28T03:15:09.646994Z",
     "shell.execute_reply": "2024-05-28T03:15:12.832547Z"
    },
    "trusted": true
   },
   "execution_count": 6,
   "outputs": [
    {
     "execution_count": 6,
     "output_type": "execute_result",
     "data": {
      "text/plain": "                                            sentence  label\n0  One of the other reviewers has mentioned that ...      1\n1  A wonderful little production. <br /><br />The...      1\n2  I thought this was a wonderful way to spend ti...      1\n3  Basically there's a family where a little boy ...      0\n4  Petter Mattei's \"Love in the Time of Money\" is...      1",
      "text/html": "<div>\n<style scoped>\n    .dataframe tbody tr th:only-of-type {\n        vertical-align: middle;\n    }\n\n    .dataframe tbody tr th {\n        vertical-align: top;\n    }\n\n    .dataframe thead th {\n        text-align: right;\n    }\n</style>\n<table border=\"1\" class=\"dataframe\">\n  <thead>\n    <tr style=\"text-align: right;\">\n      <th></th>\n      <th>sentence</th>\n      <th>label</th>\n    </tr>\n  </thead>\n  <tbody>\n    <tr>\n      <th>0</th>\n      <td>One of the other reviewers has mentioned that ...</td>\n      <td>1</td>\n    </tr>\n    <tr>\n      <th>1</th>\n      <td>A wonderful little production. &lt;br /&gt;&lt;br /&gt;The...</td>\n      <td>1</td>\n    </tr>\n    <tr>\n      <th>2</th>\n      <td>I thought this was a wonderful way to spend ti...</td>\n      <td>1</td>\n    </tr>\n    <tr>\n      <th>3</th>\n      <td>Basically there's a family where a little boy ...</td>\n      <td>0</td>\n    </tr>\n    <tr>\n      <th>4</th>\n      <td>Petter Mattei's \"Love in the Time of Money\" is...</td>\n      <td>1</td>\n    </tr>\n  </tbody>\n</table>\n</div>"
     },
     "metadata": {}
    }
   ]
  },
  {
   "cell_type": "code",
   "source": [
    "from transformers import AlbertConfig, AlbertModel, AlbertTokenizer\n",
    "MODEL_CLASSES = {\n",
    "    'bert': (BertForSequenceClassification, BertTokenizer, BertConfig),\n",
    "    'xlnet': (XLNetForSequenceClassification, XLNetTokenizer, XLNetConfig),\n",
    "    'xlm': (XLMForSequenceClassification, XLMTokenizer, XLMConfig),\n",
    "    'roberta': (RobertaForSequenceClassification, RobertaTokenizer, RobertaConfig),\n",
    "    'distilbert': (DistilBertForSequenceClassification, DistilBertTokenizer, DistilBertConfig),\n",
    "    'albert': (AlbertModel, AlbertTokenizer, AlbertConfig)\n",
    "}"
   ],
   "metadata": {
    "execution": {
     "iopub.status.busy": "2024-05-28T03:15:12.834700Z",
     "iopub.execute_input": "2024-05-28T03:15:12.834998Z",
     "iopub.status.idle": "2024-05-28T03:15:12.841059Z",
     "shell.execute_reply.started": "2024-05-28T03:15:12.834958Z",
     "shell.execute_reply": "2024-05-28T03:15:12.840151Z"
    },
    "trusted": true
   },
   "execution_count": 7,
   "outputs": []
  },
  {
   "cell_type": "code",
   "source": [
    "# Parameters\n",
    "seed = 42\n",
    "use_fp16 = False\n",
    "bs = 64\n",
    "\n",
    "model_type = 'albert'\n",
    "pretrained_model_name = 'albert-base-v2'\n",
    "\n",
    "# model_type = 'roberta'\n",
    "# pretrained_model_name = 'roberta-large'\n",
    "\n",
    "# model_type = 'bert'\n",
    "# pretrained_model_name='bert-base-uncased'\n",
    "\n",
    "# model_type = 'distilbert'\n",
    "# pretrained_model_name = 'distilbert-base-uncased'\n",
    "\n",
    "#model_type = 'xlm'\n",
    "#pretrained_model_name = 'xlm-clm-enfr-1024'\n",
    "\n",
    "# model_type = 'xlnet'\n",
    "# pretrained_model_name = 'xlnet-base-cased'"
   ],
   "metadata": {
    "execution": {
     "iopub.status.busy": "2024-05-28T03:15:12.842463Z",
     "iopub.execute_input": "2024-05-28T03:15:12.842827Z",
     "iopub.status.idle": "2024-05-28T03:15:12.852531Z",
     "shell.execute_reply.started": "2024-05-28T03:15:12.842782Z",
     "shell.execute_reply": "2024-05-28T03:15:12.851752Z"
    },
    "trusted": true
   },
   "execution_count": 8,
   "outputs": []
  },
  {
   "cell_type": "code",
   "source": [
    "model_class, tokenizer_class, config_class = MODEL_CLASSES[model_type]"
   ],
   "metadata": {
    "execution": {
     "iopub.status.busy": "2024-05-28T03:15:12.853850Z",
     "iopub.execute_input": "2024-05-28T03:15:12.854165Z",
     "iopub.status.idle": "2024-05-28T03:15:12.862199Z",
     "shell.execute_reply.started": "2024-05-28T03:15:12.854109Z",
     "shell.execute_reply": "2024-05-28T03:15:12.861461Z"
    },
    "trusted": true
   },
   "execution_count": 9,
   "outputs": []
  },
  {
   "cell_type": "code",
   "source": [
    "def seed_all(seed_value):\n",
    "    random.seed(seed_value) # Python\n",
    "    np.random.seed(seed_value) # cpu vars\n",
    "    torch.manual_seed(seed_value) # cpu  vars\n",
    "    \n",
    "    if torch.cuda.is_available(): \n",
    "        torch.cuda.manual_seed(seed_value)\n",
    "        torch.cuda.manual_seed_all(seed_value) # gpu vars\n",
    "        torch.backends.cudnn.deterministic = True  #needed\n",
    "        torch.backends.cudnn.benchmark = False"
   ],
   "metadata": {
    "execution": {
     "iopub.status.busy": "2024-05-28T03:15:12.863619Z",
     "iopub.execute_input": "2024-05-28T03:15:12.863953Z",
     "iopub.status.idle": "2024-05-28T03:15:12.871038Z",
     "shell.execute_reply.started": "2024-05-28T03:15:12.863905Z",
     "shell.execute_reply": "2024-05-28T03:15:12.870123Z"
    },
    "trusted": true
   },
   "execution_count": 10,
   "outputs": []
  },
  {
   "cell_type": "code",
   "source": [
    "seed_all(seed)"
   ],
   "metadata": {
    "execution": {
     "iopub.status.busy": "2024-05-28T03:15:12.872386Z",
     "iopub.execute_input": "2024-05-28T03:15:12.872699Z",
     "iopub.status.idle": "2024-05-28T03:15:12.883827Z",
     "shell.execute_reply.started": "2024-05-28T03:15:12.872645Z",
     "shell.execute_reply": "2024-05-28T03:15:12.882911Z"
    },
    "trusted": true
   },
   "execution_count": 11,
   "outputs": []
  },
  {
   "cell_type": "code",
   "source": [
    "class TransformersBaseTokenizer(BaseTokenizer):\n",
    "    \"\"\"Wrapper around PreTrainedTokenizer to be compatible with fast.ai\"\"\"\n",
    "    def __init__(self, pretrained_tokenizer: PreTrainedTokenizer, model_type = 'bert', **kwargs):\n",
    "        self._pretrained_tokenizer = pretrained_tokenizer\n",
    "        self.max_seq_len = pretrained_tokenizer.max_len\n",
    "        self.model_type = model_type\n",
    "\n",
    "    def __call__(self, *args, **kwargs): \n",
    "        return self\n",
    "\n",
    "    def tokenizer(self, t:str) -> List[str]:\n",
    "        \"\"\"Limits the maximum sequence length and add the spesial tokens\"\"\"\n",
    "        CLS = self._pretrained_tokenizer.cls_token\n",
    "        SEP = self._pretrained_tokenizer.sep_token\n",
    "        if self.model_type in ['roberta']:\n",
    "            tokens = self._pretrained_tokenizer.tokenize(t, add_prefix_space=True)[:self.max_seq_len - 2]\n",
    "            tokens = [CLS] + tokens + [SEP]\n",
    "        else:\n",
    "            tokens = self._pretrained_tokenizer.tokenize(t)[:self.max_seq_len - 2]\n",
    "            if self.model_type in ['xlnet']:\n",
    "                tokens = tokens + [SEP] +  [CLS]\n",
    "            else:\n",
    "                tokens = [CLS] + tokens + [SEP]\n",
    "        return tokens"
   ],
   "metadata": {
    "execution": {
     "iopub.status.busy": "2024-05-28T03:15:12.885102Z",
     "iopub.execute_input": "2024-05-28T03:15:12.885531Z",
     "iopub.status.idle": "2024-05-28T03:15:12.897897Z",
     "shell.execute_reply.started": "2024-05-28T03:15:12.885475Z",
     "shell.execute_reply": "2024-05-28T03:15:12.897066Z"
    },
    "trusted": true
   },
   "execution_count": 12,
   "outputs": []
  },
  {
   "cell_type": "code",
   "source": [
    "from transformers import AutoTokenizer,AutoModelForSequenceClassification\n",
    "transformer_tokenizer = tokenizer_class.from_pretrained(pretrained_model_name)\n",
    "# transformer_tokenizer = tokenizer_class.from_pretrained(pretrained_model_name)\n",
    "# tokenizer = AutoTokenizer.from_pretrained(\"distilbert-base-uncased-finetuned-sst-2-english\")\n",
    "# model = AutoModelForSequenceClassification.from_pretrained(\"distilbert-base-uncased-finetuned-sst-2-english\")\n",
    "transformer_base_tokenizer = TransformersBaseTokenizer(pretrained_tokenizer = transformer_tokenizer, model_type = model_type)\n",
    "fastai_tokenizer = Tokenizer(tok_func = transformer_base_tokenizer, pre_rules=[], post_rules=[])"
   ],
   "metadata": {
    "execution": {
     "iopub.status.busy": "2024-05-28T03:15:12.899313Z",
     "iopub.execute_input": "2024-05-28T03:15:12.899660Z",
     "iopub.status.idle": "2024-05-28T03:15:14.246482Z",
     "shell.execute_reply.started": "2024-05-28T03:15:12.899600Z",
     "shell.execute_reply": "2024-05-28T03:15:14.245600Z"
    },
    "trusted": true
   },
   "execution_count": 13,
   "outputs": [
    {
     "output_type": "display_data",
     "data": {
      "text/plain": "HBox(children=(FloatProgress(value=0.0, description='Downloading', max=760289.0, style=ProgressStyle(descripti…",
      "application/vnd.jupyter.widget-view+json": {
       "version_major": 2,
       "version_minor": 0,
       "model_id": "ccb26a665db149c599ef8557bd8a90cd"
      }
     },
     "metadata": {}
    },
    {
     "name": "stdout",
     "text": "\n",
     "output_type": "stream"
    }
   ]
  },
  {
   "cell_type": "code",
   "source": [
    "class TransformersVocab(Vocab):\n",
    "    def __init__(self, tokenizer: PreTrainedTokenizer):\n",
    "        super(TransformersVocab, self).__init__(itos = [])\n",
    "        self.tokenizer = tokenizer\n",
    "    \n",
    "    def numericalize(self, t:Collection[str]) -> List[int]:\n",
    "        \"Convert a list of tokens `t` to their ids.\"\n",
    "        return self.tokenizer.convert_tokens_to_ids(t)\n",
    "        #return self.tokenizer.encode(t)\n",
    "\n",
    "    def textify(self, nums:Collection[int], sep=' ') -> List[str]:\n",
    "        \"Convert a list of `nums` to their tokens.\"\n",
    "        nums = np.array(nums).tolist()\n",
    "        return sep.join(self.tokenizer.convert_ids_to_tokens(nums)) if sep is not None else self.tokenizer.convert_ids_to_tokens(nums)\n",
    "    \n",
    "    def __getstate__(self):\n",
    "        return {'itos':self.itos, 'tokenizer':self.tokenizer}\n",
    "\n",
    "    def __setstate__(self, state:dict):\n",
    "        self.itos = state['itos']\n",
    "        self.tokenizer = state['tokenizer']\n",
    "        self.stoi = collections.defaultdict(int,{v:k for k,v in enumerate(self.itos)})"
   ],
   "metadata": {
    "execution": {
     "iopub.status.busy": "2024-05-28T03:15:14.247878Z",
     "iopub.execute_input": "2024-05-28T03:15:14.248184Z",
     "iopub.status.idle": "2024-05-28T03:15:14.259204Z",
     "shell.execute_reply.started": "2024-05-28T03:15:14.248134Z",
     "shell.execute_reply": "2024-05-28T03:15:14.258411Z"
    },
    "trusted": true
   },
   "execution_count": 14,
   "outputs": []
  },
  {
   "cell_type": "code",
   "source": [
    "transformer_vocab =  TransformersVocab(tokenizer = transformer_tokenizer)\n",
    "numericalize_processor = NumericalizeProcessor(vocab=transformer_vocab)\n",
    "\n",
    "tokenize_processor = TokenizeProcessor(tokenizer=fastai_tokenizer, include_bos=False, include_eos=False)\n",
    "\n",
    "transformer_processor = [tokenize_processor, numericalize_processor]"
   ],
   "metadata": {
    "execution": {
     "iopub.status.busy": "2024-05-28T03:15:14.260792Z",
     "iopub.execute_input": "2024-05-28T03:15:14.261277Z",
     "iopub.status.idle": "2024-05-28T03:15:14.272505Z",
     "shell.execute_reply.started": "2024-05-28T03:15:14.261221Z",
     "shell.execute_reply": "2024-05-28T03:15:14.271684Z"
    },
    "trusted": true
   },
   "execution_count": 15,
   "outputs": []
  },
  {
   "cell_type": "code",
   "source": [
    "pad_first = bool(model_type in ['xlnet'])\n",
    "pad_idx = transformer_tokenizer.pad_token_id\n",
    "tokens = transformer_tokenizer.tokenize('Salut c est moi, Hello it s me')\n",
    "print(tokens)\n",
    "ids = transformer_tokenizer.convert_tokens_to_ids(tokens)\n",
    "print(ids)\n",
    "transformer_tokenizer.convert_ids_to_tokens(ids)\n"
   ],
   "metadata": {
    "execution": {
     "iopub.status.busy": "2024-05-28T03:15:14.273700Z",
     "iopub.execute_input": "2024-05-28T03:15:14.274007Z",
     "iopub.status.idle": "2024-05-28T03:15:14.285211Z",
     "shell.execute_reply.started": "2024-05-28T03:15:14.273960Z",
     "shell.execute_reply": "2024-05-28T03:15:14.284475Z"
    },
    "trusted": true
   },
   "execution_count": 16,
   "outputs": [
    {
     "name": "stdout",
     "text": "['▁sal', 'ut', '▁c', '▁est', '▁moi', ',', '▁hello', '▁it', '▁', 's', '▁me']\n[3263, 1982, 272, 11186, 19517, 15, 10975, 32, 13, 18, 55]\n",
     "output_type": "stream"
    },
    {
     "execution_count": 16,
     "output_type": "execute_result",
     "data": {
      "text/plain": "['▁sal', 'ut', '▁c', '▁est', '▁moi', ',', '▁hello', '▁it', '▁', 's', '▁me']"
     },
     "metadata": {}
    }
   ]
  },
  {
   "cell_type": "code",
   "source": [
    "databunch = (TextList.from_df(train, cols='sentence', processor=transformer_processor)\n",
    "             .split_none()\n",
    "             .label_from_df(cols= 'label')\n",
    "             .databunch(bs=bs, pad_first=pad_first, pad_idx=pad_idx))"
   ],
   "metadata": {
    "execution": {
     "iopub.status.busy": "2024-05-28T03:15:14.286737Z",
     "iopub.execute_input": "2024-05-28T03:15:14.287048Z",
     "iopub.status.idle": "2024-05-28T03:15:25.505417Z",
     "shell.execute_reply.started": "2024-05-28T03:15:14.287011Z",
     "shell.execute_reply": "2024-05-28T03:15:25.504533Z"
    },
    "trusted": true
   },
   "execution_count": 17,
   "outputs": [
    {
     "output_type": "display_data",
     "data": {
      "text/plain": "<IPython.core.display.HTML object>",
      "text/html": ""
     },
     "metadata": {}
    },
    {
     "output_type": "display_data",
     "data": {
      "text/plain": "<IPython.core.display.HTML object>",
      "text/html": ""
     },
     "metadata": {}
    }
   ]
  },
  {
   "cell_type": "code",
   "source": [
    "valid_databunch = (TextList.from_df(validation, cols='sentence', processor=transformer_processor)\n",
    "             .split_none()\n",
    "             .label_from_df(cols= 'label')\n",
    "             .databunch(bs=bs, pad_first=pad_first, pad_idx=pad_idx))"
   ],
   "metadata": {
    "execution": {
     "iopub.status.busy": "2024-05-28T03:15:25.507038Z",
     "iopub.execute_input": "2024-05-28T03:15:25.507364Z",
     "iopub.status.idle": "2024-05-28T03:15:25.917363Z",
     "shell.execute_reply.started": "2024-05-28T03:15:25.507318Z",
     "shell.execute_reply": "2024-05-28T03:15:25.916588Z"
    },
    "trusted": true
   },
   "execution_count": 18,
   "outputs": [
    {
     "output_type": "display_data",
     "data": {
      "text/plain": "<IPython.core.display.HTML object>",
      "text/html": ""
     },
     "metadata": {}
    },
    {
     "output_type": "display_data",
     "data": {
      "text/plain": "<IPython.core.display.HTML object>",
      "text/html": ""
     },
     "metadata": {}
    }
   ]
  },
  {
   "cell_type": "code",
   "source": [
    "test_databunch = (TextList.from_df(test, cols='sentence', processor=transformer_processor)\n",
    "             .split_none()\n",
    "             .label_from_df(cols= 'label')\n",
    "             .databunch(bs=bs, pad_first=pad_first, pad_idx=pad_idx))"
   ],
   "metadata": {
    "execution": {
     "iopub.status.busy": "2024-05-28T03:15:25.919267Z",
     "iopub.execute_input": "2024-05-28T03:15:25.919722Z",
     "iopub.status.idle": "2024-05-28T03:16:52.141188Z",
     "shell.execute_reply.started": "2024-05-28T03:15:25.919653Z",
     "shell.execute_reply": "2024-05-28T03:16:52.140263Z"
    },
    "trusted": true
   },
   "execution_count": 19,
   "outputs": [
    {
     "output_type": "display_data",
     "data": {
      "text/plain": "<IPython.core.display.HTML object>",
      "text/html": ""
     },
     "metadata": {}
    },
    {
     "output_type": "display_data",
     "data": {
      "text/plain": "<IPython.core.display.HTML object>",
      "text/html": ""
     },
     "metadata": {}
    }
   ]
  },
  {
   "cell_type": "code",
   "source": [
    "import torch.tensor as Tensor\n",
    "def dropout_mask(x:Tensor, sz, p:float):\n",
    "    \"Return a dropout mask of the same type as x, size sz, with probability p to cancel an element.\"\n",
    "    return x.new(*sz).bernoulli_(1-p).div_(1-p)\n",
    "\n",
    "class RNNDropout(nn.Module):\n",
    "    \"Dropout with probability p that is consistent on the seq_len dimension.\"\n",
    "\n",
    "    def __init__(self, p:float=0.5): \n",
    "        super(RNNDropout, self).__init__()\n",
    "        self.p=p\n",
    "\n",
    "    def forward(self, x:Tensor)->Tensor:\n",
    "        if not self.training or self.p == 0.: return x\n",
    "        m = dropout_mask(x.data, (x.size(0), 1, x.size(2)), self.p)\n",
    "        return x * m\n",
    "\n",
    "class WeightDropout(nn.Module):\n",
    "    \"A module that warps another layer in which some weights will be replaced by 0 during training.\"\n",
    "\n",
    "    def __init__(self, module:nn.Module, weight_p:float, layer_names=['weight_hh_l0']):\n",
    "        super(WeightDropout, self).__init__()\n",
    "        self.module,self.weight_p,self.layer_names = module,weight_p,layer_names\n",
    "        for layer in self.layer_names:\n",
    "            #Makes a copy of the weights of the selected layers.\n",
    "            w = getattr(self.module, layer)\n",
    "            # Registered in list of parameters\n",
    "            self.register_parameter(str(layer)+'_raw', nn.Parameter(w.data))\n",
    "            self.module._parameters[layer] = F.dropout(w, p=self.weight_p, training=False)\n",
    "\n",
    "    def _setweights(self):\n",
    "        \"Apply dropout to the raw weights.\"\n",
    "        for layer in self.layer_names:\n",
    "            raw_w = getattr(self, str(layer) +'_raw')\n",
    "            self.module._parameters[layer] = F.dropout(raw_w, p=self.weight_p, training=self.training)\n",
    "\n",
    "    def forward(self, *args):\n",
    "        self._setweights()\n",
    "        with warnings.catch_warnings():\n",
    "            #To avoid the warning that comes because the weights aren't flattened.\n",
    "            warnings.simplefilter(\"ignore\")\n",
    "            return self.module.forward(*args)\n",
    "\n",
    "    def reset(self):\n",
    "        for layer in self.layer_names:\n",
    "            raw_w = getattr(self, str(layer) + '_raw')\n",
    "            self.module._parameters[layer] = F.dropout(raw_w, p=self.weight_p, training=False)\n",
    "        if hasattr(self.module, 'reset'): self.module.reset()"
   ],
   "metadata": {
    "execution": {
     "iopub.status.busy": "2024-05-28T03:16:52.142834Z",
     "iopub.execute_input": "2024-05-28T03:16:52.143139Z",
     "iopub.status.idle": "2024-05-28T03:16:52.162821Z",
     "shell.execute_reply.started": "2024-05-28T03:16:52.143093Z",
     "shell.execute_reply": "2024-05-28T03:16:52.161886Z"
    },
    "trusted": true
   },
   "execution_count": 20,
   "outputs": []
  },
  {
   "cell_type": "code",
   "source": [
    "# defining our model architecture \n",
    "class CustomTransformerModel(nn.Module):\n",
    "    def __init__(self, transformer_model: PreTrainedModel):\n",
    "        super(CustomTransformerModel,self).__init__()\n",
    "        self.transformer = transformer_model\n",
    "        self.transformer = self.transformer\n",
    "        self.rnns = [nn.LSTM(768 if l == 0 else 1152,\n",
    "                            (1152 if l != 2-1 else 768)//2,\n",
    "                            1, bidirectional = True, batch_first = True) for l in range(2)]\n",
    "        \n",
    "        \n",
    "        self.rnns = [WeightDropout(rnn, 0.6) for rnn in self.rnns]\n",
    "        self.rnns = nn.ModuleList(self.rnns)\n",
    "        self.hidden_dps = nn.ModuleList([RNNDropout(0.8) for l in range(2)])\n",
    "        self.out = nn.Linear(768,2)\n",
    "        self.dropout = nn.Dropout(0.1)\n",
    "        self.bs = bs\n",
    "        \n",
    "    def forward(self, input_ids, attention_mask=None):\n",
    "        self.bs =input_ids.shape[0]\n",
    "        self.reset()\n",
    "        # attention_mask\n",
    "        # Mask to avoid performing attention on padding token indices.\n",
    "        # Mask values selected in `[0, 1]`:\n",
    "        # `1` for tokens that are NOT MASKED, `0` for MASKED tokens.\n",
    "        attention_mask = (input_ids!=pad_idx).type(input_ids.type()) \n",
    "        \n",
    "        raw_output = self.transformer(input_ids,\n",
    "                                  attention_mask = attention_mask)[0]\n",
    "#         print(raw_output.shape)\n",
    "# #         hidden, _ = self.rnns(logits)\n",
    "        for l, (rnn,hid_dp) in enumerate(zip(self.rnns,self.hidden_dps)):\n",
    "            raw_output,_ = rnn(raw_output, self.hidden[l])\n",
    "            if l != 2-1:raw_output = hid_dp(raw_output)\n",
    "        output = self.out(self.dropout(raw_output))\n",
    "        return output.mean(1).squeeze()\n",
    "    def _one_hidden(self, l:int)->Tensor:\n",
    "        \"Return one hidden state.\"\n",
    "        nh = (1152 if l != 1 else 768) //2\n",
    "        return torch.zeros(2,self.bs,nh).cuda()\n",
    "    def reset(self):\n",
    "        \"Reset the hidden states.\"\n",
    "        [r.reset() for r in self.rnns if hasattr(r, 'reset')]\n",
    "        self.hidden = [(self._one_hidden(l), self._one_hidden(l)) for l in range(2)]"
   ],
   "metadata": {
    "execution": {
     "iopub.status.busy": "2024-05-28T03:16:52.164383Z",
     "iopub.execute_input": "2024-05-28T03:16:52.164763Z",
     "iopub.status.idle": "2024-05-28T03:16:52.183465Z",
     "shell.execute_reply.started": "2024-05-28T03:16:52.164711Z",
     "shell.execute_reply": "2024-05-28T03:16:52.182680Z"
    },
    "trusted": true
   },
   "execution_count": 21,
   "outputs": []
  },
  {
   "cell_type": "code",
   "source": [
    "transformer_model = model_class.from_pretrained(pretrained_model_name)\n",
    "# from transformers import RobertaTokenizer, RobertaModel\n",
    "# transformer_model = RobertaModel.from_pretrained(\"/kaggle/input/large-roberta\")\n",
    "# transformer_model = RobertaModel.from_pretrained(\"/kaggle/input/realroberta\")\n",
    "# transformer_model = DistilBertModel.from_pretrained(\"distilbert-base-uncased\")"
   ],
   "metadata": {
    "execution": {
     "iopub.status.busy": "2024-05-28T03:16:52.184574Z",
     "iopub.execute_input": "2024-05-28T03:16:52.184912Z",
     "iopub.status.idle": "2024-05-28T03:16:56.517696Z",
     "shell.execute_reply.started": "2024-05-28T03:16:52.184869Z",
     "shell.execute_reply": "2024-05-28T03:16:56.516896Z"
    },
    "trusted": true
   },
   "execution_count": 22,
   "outputs": [
    {
     "output_type": "display_data",
     "data": {
      "text/plain": "HBox(children=(FloatProgress(value=0.0, description='Downloading', max=684.0, style=ProgressStyle(description_…",
      "application/vnd.jupyter.widget-view+json": {
       "version_major": 2,
       "version_minor": 0,
       "model_id": "9c59dc0f914f48ca80d7030694260997"
      }
     },
     "metadata": {}
    },
    {
     "name": "stdout",
     "text": "\n",
     "output_type": "stream"
    },
    {
     "output_type": "display_data",
     "data": {
      "text/plain": "HBox(children=(FloatProgress(value=0.0, description='Downloading', max=47376696.0, style=ProgressStyle(descrip…",
      "application/vnd.jupyter.widget-view+json": {
       "version_major": 2,
       "version_minor": 0,
       "model_id": "4aab489f93c540a1b972bfdd90d31dbb"
      }
     },
     "metadata": {}
    },
    {
     "name": "stdout",
     "text": "\n",
     "output_type": "stream"
    }
   ]
  },
  {
   "cell_type": "code",
   "source": [
    "# transformer_model.embeddings.word_embeddings.weight"
   ],
   "metadata": {
    "execution": {
     "iopub.status.busy": "2024-05-28T03:16:56.519332Z",
     "iopub.execute_input": "2024-05-28T03:16:56.519789Z",
     "iopub.status.idle": "2024-05-28T03:16:56.524155Z",
     "shell.execute_reply.started": "2024-05-28T03:16:56.519728Z",
     "shell.execute_reply": "2024-05-28T03:16:56.523209Z"
    },
    "trusted": true
   },
   "execution_count": 23,
   "outputs": []
  },
  {
   "cell_type": "code",
   "source": [
    "# transformer_model1 = RobertaModel.from_pretrained(\"roberta-base\")\n",
    "# transformer_model1.embeddings.word_embeddings.weight"
   ],
   "metadata": {
    "execution": {
     "iopub.status.busy": "2024-05-28T03:16:56.526017Z",
     "iopub.execute_input": "2024-05-28T03:16:56.526463Z",
     "iopub.status.idle": "2024-05-28T03:16:56.532718Z",
     "shell.execute_reply.started": "2024-05-28T03:16:56.526388Z",
     "shell.execute_reply": "2024-05-28T03:16:56.532028Z"
    },
    "trusted": true
   },
   "execution_count": 24,
   "outputs": []
  },
  {
   "cell_type": "code",
   "source": [
    "custom_transformer_model = CustomTransformerModel(transformer_model = transformer_model)\n",
    "custom_transformer_model"
   ],
   "metadata": {
    "execution": {
     "iopub.status.busy": "2024-05-28T03:16:56.534130Z",
     "iopub.execute_input": "2024-05-28T03:16:56.534569Z",
     "iopub.status.idle": "2024-05-28T03:16:56.630948Z",
     "shell.execute_reply.started": "2024-05-28T03:16:56.534514Z",
     "shell.execute_reply": "2024-05-28T03:16:56.630036Z"
    },
    "trusted": true
   },
   "execution_count": 25,
   "outputs": [
    {
     "execution_count": 25,
     "output_type": "execute_result",
     "data": {
      "text/plain": "CustomTransformerModel(\n  (transformer): AlbertModel(\n    (embeddings): AlbertEmbeddings(\n      (word_embeddings): Embedding(30000, 128, padding_idx=0)\n      (position_embeddings): Embedding(512, 128)\n      (token_type_embeddings): Embedding(2, 128)\n      (LayerNorm): LayerNorm((128,), eps=1e-12, elementwise_affine=True)\n      (dropout): Dropout(p=0, inplace=False)\n    )\n    (encoder): AlbertTransformer(\n      (embedding_hidden_mapping_in): Linear(in_features=128, out_features=768, bias=True)\n      (albert_layer_groups): ModuleList(\n        (0): AlbertLayerGroup(\n          (albert_layers): ModuleList(\n            (0): AlbertLayer(\n              (full_layer_layer_norm): LayerNorm((768,), eps=1e-12, elementwise_affine=True)\n              (attention): AlbertAttention(\n                (query): Linear(in_features=768, out_features=768, bias=True)\n                (key): Linear(in_features=768, out_features=768, bias=True)\n                (value): Linear(in_features=768, out_features=768, bias=True)\n                (dropout): Dropout(p=0, inplace=False)\n                (dense): Linear(in_features=768, out_features=768, bias=True)\n                (LayerNorm): LayerNorm((768,), eps=1e-12, elementwise_affine=True)\n              )\n              (ffn): Linear(in_features=768, out_features=3072, bias=True)\n              (ffn_output): Linear(in_features=3072, out_features=768, bias=True)\n            )\n          )\n        )\n      )\n    )\n    (pooler): Linear(in_features=768, out_features=768, bias=True)\n    (pooler_activation): Tanh()\n  )\n  (rnns): ModuleList(\n    (0): WeightDropout(\n      (module): LSTM(768, 576, batch_first=True, bidirectional=True)\n    )\n    (1): WeightDropout(\n      (module): LSTM(1152, 384, batch_first=True, bidirectional=True)\n    )\n  )\n  (hidden_dps): ModuleList(\n    (0): RNNDropout()\n    (1): RNNDropout()\n  )\n  (out): Linear(in_features=768, out_features=2, bias=True)\n  (dropout): Dropout(p=0.1, inplace=False)\n)"
     },
     "metadata": {}
    }
   ]
  },
  {
   "cell_type": "code",
   "source": [
    "class SaveBestModel(Recorder):\n",
    "    def __init__(self, learn,name='best_model'):\n",
    "        super().__init__(learn)\n",
    "        self.name = name\n",
    "        self.best_loss = None\n",
    "        self.best_acc = None\n",
    "        self.save_method = self.save_when_acc\n",
    "        \n",
    "    def save_when_acc(self, metrics):        \n",
    "        loss, acc = metrics[0], metrics[1]\n",
    "        if self.best_acc == None or acc > self.best_acc:\n",
    "            self.best_acc = acc\n",
    "            self.best_loss = loss\n",
    "            self.learn.save(f'{self.name}')\n",
    "            print(\"Save the best accuracy {:.5f}\".format(self.best_acc))\n",
    "        elif acc == self.best_acc and  loss < self.best_loss:\n",
    "            self.best_loss = loss\n",
    "            self.learn.save(f'{self.name}')\n",
    "            print(\"Accuracy is eq,Save the lower loss {:.5f}\".format(self.best_loss))\n",
    "            \n",
    "    def on_epoch_end(self,last_metrics=MetricsList,**kwargs:Any):\n",
    "        self.save_method(last_metrics)"
   ],
   "metadata": {
    "execution": {
     "iopub.status.busy": "2024-05-28T03:16:56.632741Z",
     "iopub.execute_input": "2024-05-28T03:16:56.633202Z",
     "iopub.status.idle": "2024-05-28T03:16:56.643298Z",
     "shell.execute_reply.started": "2024-05-28T03:16:56.633123Z",
     "shell.execute_reply": "2024-05-28T03:16:56.642331Z"
    },
    "trusted": true
   },
   "execution_count": 26,
   "outputs": []
  },
  {
   "cell_type": "code",
   "source": [
    "from fastai.callbacks import *\n",
    "from transformers import AdamW\n",
    "from functools import partial\n",
    "\n",
    "CustomAdamW = partial(AdamW, correct_bias=False)\n",
    "\n",
    "learner = Learner(databunch, \n",
    "                  custom_transformer_model, \n",
    "                  opt_func = CustomAdamW, \n",
    "                  metrics=[accuracy, error_rate], callback_fns=SaveBestModel)\n",
    "\n",
    "# Show graph of learner stats and metrics after each epoch.\n",
    "learner.callbacks.append(ShowGraph(learner))\n",
    "\n",
    "\n",
    "# Put learn in FP16 precision mode. --> Seems to not working\n",
    "# if use_fp16: learner = learner.to_fp16()"
   ],
   "metadata": {
    "execution": {
     "iopub.status.busy": "2024-05-28T03:16:56.644852Z",
     "iopub.execute_input": "2024-05-28T03:16:56.645164Z",
     "iopub.status.idle": "2024-05-28T03:17:02.276873Z",
     "shell.execute_reply.started": "2024-05-28T03:16:56.645116Z",
     "shell.execute_reply": "2024-05-28T03:17:02.276071Z"
    },
    "trusted": true
   },
   "execution_count": 27,
   "outputs": []
  },
  {
   "cell_type": "code",
   "source": [
    "learner.data.valid_dl = valid_databunch.train_dl"
   ],
   "metadata": {
    "execution": {
     "iopub.status.busy": "2024-05-28T03:17:02.278879Z",
     "iopub.execute_input": "2024-05-28T03:17:02.279229Z",
     "iopub.status.idle": "2024-05-28T03:17:02.283280Z",
     "shell.execute_reply.started": "2024-05-28T03:17:02.279166Z",
     "shell.execute_reply": "2024-05-28T03:17:02.282330Z"
    },
    "trusted": true
   },
   "execution_count": 28,
   "outputs": []
  },
  {
   "cell_type": "code",
   "source": [
    "learner.model"
   ],
   "metadata": {
    "execution": {
     "iopub.status.busy": "2024-05-28T03:17:02.285047Z",
     "iopub.execute_input": "2024-05-28T03:17:02.285478Z",
     "iopub.status.idle": "2024-05-28T03:17:02.294776Z",
     "shell.execute_reply.started": "2024-05-28T03:17:02.285421Z",
     "shell.execute_reply": "2024-05-28T03:17:02.293934Z"
    },
    "trusted": true
   },
   "execution_count": 29,
   "outputs": [
    {
     "execution_count": 29,
     "output_type": "execute_result",
     "data": {
      "text/plain": "CustomTransformerModel(\n  (transformer): AlbertModel(\n    (embeddings): AlbertEmbeddings(\n      (word_embeddings): Embedding(30000, 128, padding_idx=0)\n      (position_embeddings): Embedding(512, 128)\n      (token_type_embeddings): Embedding(2, 128)\n      (LayerNorm): LayerNorm((128,), eps=1e-12, elementwise_affine=True)\n      (dropout): Dropout(p=0, inplace=False)\n    )\n    (encoder): AlbertTransformer(\n      (embedding_hidden_mapping_in): Linear(in_features=128, out_features=768, bias=True)\n      (albert_layer_groups): ModuleList(\n        (0): AlbertLayerGroup(\n          (albert_layers): ModuleList(\n            (0): AlbertLayer(\n              (full_layer_layer_norm): LayerNorm((768,), eps=1e-12, elementwise_affine=True)\n              (attention): AlbertAttention(\n                (query): Linear(in_features=768, out_features=768, bias=True)\n                (key): Linear(in_features=768, out_features=768, bias=True)\n                (value): Linear(in_features=768, out_features=768, bias=True)\n                (dropout): Dropout(p=0, inplace=False)\n                (dense): Linear(in_features=768, out_features=768, bias=True)\n                (LayerNorm): LayerNorm((768,), eps=1e-12, elementwise_affine=True)\n              )\n              (ffn): Linear(in_features=768, out_features=3072, bias=True)\n              (ffn_output): Linear(in_features=3072, out_features=768, bias=True)\n            )\n          )\n        )\n      )\n    )\n    (pooler): Linear(in_features=768, out_features=768, bias=True)\n    (pooler_activation): Tanh()\n  )\n  (rnns): ModuleList(\n    (0): WeightDropout(\n      (module): LSTM(768, 576, batch_first=True, bidirectional=True)\n    )\n    (1): WeightDropout(\n      (module): LSTM(1152, 384, batch_first=True, bidirectional=True)\n    )\n  )\n  (hidden_dps): ModuleList(\n    (0): RNNDropout()\n    (1): RNNDropout()\n  )\n  (out): Linear(in_features=768, out_features=2, bias=True)\n  (dropout): Dropout(p=0.1, inplace=False)\n)"
     },
     "metadata": {}
    }
   ]
  },
  {
   "cell_type": "code",
   "source": [
    "# For DistilBERT\n",
    "# list_layers = [learner.model.transformer.embeddings,\n",
    "#                learner.model.transformer.transformer.layer[0],\n",
    "#                learner.model.transformer.transformer.layer[1],\n",
    "#                learner.model.transformer.transformer.layer[2],\n",
    "#                learner.model.transformer.transformer.layer[3],\n",
    "#                learner.model.transformer.transformer.layer[4],\n",
    "#                learner.model.transformer.transformer.layer[5]]\n",
    "\n",
    "# For xlnet-base-cased\n",
    "# list_layers = [learner.model.transformer.word_embedding,\n",
    "#               learner.model.transformer.layer[0],\n",
    "#               learner.model.transformer.layer[1],\n",
    "#               learner.model.transformer.layer[2],\n",
    "#               learner.model.transformer.layer[3],\n",
    "#               learner.model.transformer.layer[4],\n",
    "#               learner.model.transformer.layer[5],\n",
    "#               learner.model.transformer.layer[6],\n",
    "#               learner.model.transformer.layer[7],\n",
    "#               learner.model.transformer.layer[8],\n",
    "#               learner.model.transformer.layer[9],\n",
    "#               learner.model.transformer.layer[10],\n",
    "#               learner.model.transformer.layer[11]]\n",
    "\n",
    "# For roberta-base\n",
    "# list_layers = [learner.model.transformer.embeddings,\n",
    "#               learner.model.transformer.encoder.layer[0],\n",
    "#               learner.model.transformer.encoder.layer[1],\n",
    "#               learner.model.transformer.encoder.layer[2],\n",
    "#               learner.model.transformer.encoder.layer[3],\n",
    "#               learner.model.transformer.encoder.layer[4],\n",
    "#               learner.model.transformer.encoder.layer[5],\n",
    "#               learner.model.transformer.encoder.layer[6],\n",
    "#               learner.model.transformer.encoder.layer[7],\n",
    "#               learner.model.transformer.encoder.layer[8],\n",
    "#               learner.model.transformer.encoder.layer[9],\n",
    "#               learner.model.transformer.encoder.layer[10],\n",
    "#               learner.model.transformer.encoder.layer[11],\n",
    "#               learner.model.transformer.pooler,\n",
    "#               learner.model.rnns]\n",
    "list_layers = [\n",
    "    learner.model.transformer.embeddings,\n",
    "    learner.model.transformer.encoder,\n",
    "    learner.model.transformer.pooler,\n",
    "    learner.model.rnns,\n",
    "    \n",
    "]\n",
    "# list_layers = [learner.model.transformer.embeddings,\n",
    "#               learner.model.transformer.encoder.layer[0],\n",
    "#               learner.model.transformer.encoder.layer[1],\n",
    "#               learner.model.transformer.encoder.layer[2],\n",
    "#               learner.model.transformer.encoder.layer[3],\n",
    "#               learner.model.transformer.encoder.layer[4],\n",
    "#               learner.model.transformer.encoder.layer[5],\n",
    "#               learner.model.transformer.encoder.layer[6],\n",
    "#               learner.model.transformer.encoder.layer[7],\n",
    "#               learner.model.transformer.encoder.layer[8],\n",
    "#               learner.model.transformer.encoder.layer[9],\n",
    "#               learner.model.transformer.encoder.layer[10],\n",
    "#               learner.model.transformer.encoder.layer[11],\n",
    "#               learner.model.transformer.encoder.layer[12],\n",
    "#               learner.model.transformer.encoder.layer[13],\n",
    "#               learner.model.transformer.encoder.layer[14],\n",
    "#               learner.model.transformer.encoder.layer[15],\n",
    "#               learner.model.transformer.encoder.layer[16],\n",
    "#               learner.model.transformer.encoder.layer[17],\n",
    "#               learner.model.transformer.encoder.layer[18],\n",
    "#               learner.model.transformer.encoder.layer[19],\n",
    "#               learner.model.transformer.encoder.layer[20],\n",
    "#               learner.model.transformer.encoder.layer[21],\n",
    "#               learner.model.transformer.encoder.layer[22],\n",
    "#               learner.model.transformer.encoder.layer[23],\n",
    "#               learner.model.transformer.pooler,\n",
    "#               learner.model.rnns]"
   ],
   "metadata": {
    "execution": {
     "iopub.status.busy": "2024-05-28T03:17:02.296258Z",
     "iopub.execute_input": "2024-05-28T03:17:02.296577Z",
     "iopub.status.idle": "2024-05-28T03:17:02.303736Z",
     "shell.execute_reply.started": "2024-05-28T03:17:02.296528Z",
     "shell.execute_reply": "2024-05-28T03:17:02.302920Z"
    },
    "trusted": true
   },
   "execution_count": 30,
   "outputs": []
  },
  {
   "cell_type": "code",
   "source": [
    "learner.split(list_layers)\n",
    "num_groups = len(learner.layer_groups)\n",
    "print('Learner split in',num_groups,'groups')\n",
    "print(learner.layer_groups)\n"
   ],
   "metadata": {
    "execution": {
     "iopub.status.busy": "2024-05-28T03:17:02.304985Z",
     "iopub.execute_input": "2024-05-28T03:17:02.305355Z",
     "iopub.status.idle": "2024-05-28T03:17:02.322533Z",
     "shell.execute_reply.started": "2024-05-28T03:17:02.305305Z",
     "shell.execute_reply": "2024-05-28T03:17:02.321741Z"
    },
    "trusted": true
   },
   "execution_count": 31,
   "outputs": [
    {
     "name": "stdout",
     "text": "Learner split in 4 groups\n[Sequential(\n  (0): Embedding(30000, 128, padding_idx=0)\n  (1): Embedding(512, 128)\n  (2): Embedding(2, 128)\n  (3): LayerNorm((128,), eps=1e-12, elementwise_affine=True)\n  (4): Dropout(p=0, inplace=False)\n), Sequential(\n  (0): Linear(in_features=128, out_features=768, bias=True)\n  (1): LayerNorm((768,), eps=1e-12, elementwise_affine=True)\n  (2): Linear(in_features=768, out_features=768, bias=True)\n  (3): Linear(in_features=768, out_features=768, bias=True)\n  (4): Linear(in_features=768, out_features=768, bias=True)\n  (5): Dropout(p=0, inplace=False)\n  (6): Linear(in_features=768, out_features=768, bias=True)\n  (7): LayerNorm((768,), eps=1e-12, elementwise_affine=True)\n  (8): Linear(in_features=768, out_features=3072, bias=True)\n  (9): Linear(in_features=3072, out_features=768, bias=True)\n), Sequential(\n  (0): Linear(in_features=768, out_features=768, bias=True)\n  (1): Tanh()\n), Sequential(\n  (0): LSTM(768, 576, batch_first=True, bidirectional=True)\n  (1): ParameterModule()\n  (2): LSTM(1152, 384, batch_first=True, bidirectional=True)\n  (3): ParameterModule()\n  (4): RNNDropout()\n  (5): RNNDropout()\n  (6): Linear(in_features=768, out_features=2, bias=True)\n  (7): Dropout(p=0.1, inplace=False)\n)]\n",
     "output_type": "stream"
    }
   ]
  },
  {
   "cell_type": "code",
   "source": [
    "learner.save('untrain')\n",
    "seed_all(seed)\n",
    "learner.load('untrain');"
   ],
   "metadata": {
    "execution": {
     "iopub.status.busy": "2024-05-28T03:17:02.327779Z",
     "iopub.execute_input": "2024-05-28T03:17:02.328103Z",
     "iopub.status.idle": "2024-05-28T03:17:02.648036Z",
     "shell.execute_reply.started": "2024-05-28T03:17:02.328044Z",
     "shell.execute_reply": "2024-05-28T03:17:02.647285Z"
    },
    "trusted": true
   },
   "execution_count": 32,
   "outputs": []
  },
  {
   "cell_type": "code",
   "source": [
    "# learner.model.reset()\n",
    "learner.freeze_to(-1)"
   ],
   "metadata": {
    "execution": {
     "iopub.status.busy": "2024-05-28T03:17:02.649656Z",
     "iopub.execute_input": "2024-05-28T03:17:02.649946Z",
     "iopub.status.idle": "2024-05-28T03:17:02.659151Z",
     "shell.execute_reply.started": "2024-05-28T03:17:02.649908Z",
     "shell.execute_reply": "2024-05-28T03:17:02.658276Z"
    },
    "trusted": true
   },
   "execution_count": 33,
   "outputs": []
  },
  {
   "cell_type": "code",
   "source": [
    "# learner.lr_find()\n",
    "# learner.recorder.plot(skip_end=10,suggestion=True)"
   ],
   "metadata": {
    "execution": {
     "iopub.status.busy": "2024-05-28T03:17:02.660673Z",
     "iopub.execute_input": "2024-05-28T03:17:02.661008Z",
     "iopub.status.idle": "2024-05-28T03:17:02.667285Z",
     "shell.execute_reply.started": "2024-05-28T03:17:02.660957Z",
     "shell.execute_reply": "2024-05-28T03:17:02.666300Z"
    },
    "trusted": true
   },
   "execution_count": 34,
   "outputs": []
  },
  {
   "cell_type": "code",
   "source": [
    "learner.fit_one_cycle(1,max_lr=2e-4,moms=(0.85,0.95))"
   ],
   "metadata": {
    "execution": {
     "iopub.status.busy": "2024-05-28T03:17:02.668673Z",
     "iopub.execute_input": "2024-05-28T03:17:02.669077Z",
     "iopub.status.idle": "2024-05-28T03:18:16.385230Z",
     "shell.execute_reply.started": "2024-05-28T03:17:02.669023Z",
     "shell.execute_reply": "2024-05-28T03:18:16.383903Z"
    },
    "trusted": true
   },
   "execution_count": 35,
   "outputs": [
    {
     "output_type": "display_data",
     "data": {
      "text/plain": "<IPython.core.display.HTML object>",
      "text/html": "<table border=\"1\" class=\"dataframe\">\n  <thead>\n    <tr style=\"text-align: left;\">\n      <th>epoch</th>\n      <th>train_loss</th>\n      <th>valid_loss</th>\n      <th>accuracy</th>\n      <th>error_rate</th>\n      <th>time</th>\n    </tr>\n  </thead>\n  <tbody>\n    <tr>\n      <td>epoch</td>\n      <td>train_loss</td>\n      <td>valid_loss</td>\n      <td>accuracy</td>\n      <td>error_rate</td>\n      <td>time</td>\n    </tr>\n    <tr>\n      <td>0</td>\n      <td>0.339234</td>\n      <td>0.317628</td>\n      <td>0.881010</td>\n      <td>0.118990</td>\n      <td>01:12</td>\n    </tr>\n  </tbody>\n</table>"
     },
     "metadata": {}
    },
    {
     "name": "stdout",
     "text": "Save the best accuracy 0.88101\n",
     "output_type": "stream"
    },
    {
     "output_type": "display_data",
     "data": {
      "text/plain": "<Figure size 432x288 with 1 Axes>",
      "image/png": "[encoded data removed]"
     },
     "metadata": {}
    }
   ]
  },
  {
   "cell_type": "code",
   "source": [
    "learner.validate(test_databunch.train_dl)"
   ],
   "metadata": {
    "execution": {
     "iopub.status.busy": "2024-05-28T03:18:16.387400Z",
     "iopub.execute_input": "2024-05-28T03:18:16.388165Z",
     "iopub.status.idle": "2024-05-28T03:29:22.085717Z",
     "shell.execute_reply.started": "2024-05-28T03:18:16.388080Z",
     "shell.execute_reply": "2024-05-28T03:29:22.084367Z"
    },
    "trusted": true
   },
   "execution_count": 36,
   "outputs": [
    {
     "output_type": "display_data",
     "data": {
      "text/plain": "<IPython.core.display.HTML object>",
      "text/html": ""
     },
     "metadata": {}
    },
    {
     "execution_count": 36,
     "output_type": "execute_result",
     "data": {
      "text/plain": "[0.29271233, tensor(0.8784), tensor(0.1216)]"
     },
     "metadata": {}
    }
   ]
  },
  {
   "cell_type": "code",
   "source": [
    "learner.freeze_to(-2)\n",
    "lr = 1e-4\n",
    "learner.fit_one_cycle(1, max_lr=slice(lr*0.95**num_groups, lr), moms=(0.8, 0.9))"
   ],
   "metadata": {
    "execution": {
     "iopub.status.busy": "2024-05-28T03:29:22.088363Z",
     "iopub.execute_input": "2024-05-28T03:29:22.089510Z",
     "iopub.status.idle": "2024-05-28T03:30:28.310582Z",
     "shell.execute_reply.started": "2024-05-28T03:29:22.089413Z",
     "shell.execute_reply": "2024-05-28T03:30:28.309248Z"
    },
    "trusted": true
   },
   "execution_count": 37,
   "outputs": [
    {
     "output_type": "display_data",
     "data": {
      "text/plain": "<IPython.core.display.HTML object>",
      "text/html": "<table border=\"1\" class=\"dataframe\">\n  <thead>\n    <tr style=\"text-align: left;\">\n      <th>epoch</th>\n      <th>train_loss</th>\n      <th>valid_loss</th>\n      <th>accuracy</th>\n      <th>error_rate</th>\n      <th>time</th>\n    </tr>\n  </thead>\n  <tbody>\n    <tr>\n      <td>epoch</td>\n      <td>train_loss</td>\n      <td>valid_loss</td>\n      <td>accuracy</td>\n      <td>error_rate</td>\n      <td>time</td>\n    </tr>\n    <tr>\n      <td>0</td>\n      <td>0.299786</td>\n      <td>0.301653</td>\n      <td>0.889423</td>\n      <td>0.110577</td>\n      <td>01:05</td>\n    </tr>\n  </tbody>\n</table>"
     },
     "metadata": {}
    },
    {
     "name": "stdout",
     "text": "Save the best accuracy 0.88942\n",
     "output_type": "stream"
    },
    {
     "output_type": "display_data",
     "data": {
      "text/plain": "<Figure size 432x288 with 1 Axes>",
      "image/png": "[encoded data removed]"
     },
     "metadata": {}
    }
   ]
  },
  {
   "cell_type": "code",
   "source": [
    "learner.validate(test_databunch.train_dl)"
   ],
   "metadata": {
    "execution": {
     "iopub.status.busy": "2024-05-28T03:30:28.312881Z",
     "iopub.execute_input": "2024-05-28T03:30:28.313674Z",
     "iopub.status.idle": "2024-05-28T03:42:19.339886Z",
     "shell.execute_reply.started": "2024-05-28T03:30:28.313597Z",
     "shell.execute_reply": "2024-05-28T03:42:19.338477Z"
    },
    "trusted": true
   },
   "execution_count": 38,
   "outputs": [
    {
     "output_type": "display_data",
     "data": {
      "text/plain": "<IPython.core.display.HTML object>",
      "text/html": ""
     },
     "metadata": {}
    },
    {
     "execution_count": 38,
     "output_type": "execute_result",
     "data": {
      "text/plain": "[0.27832183, tensor(0.8861), tensor(0.1139)]"
     },
     "metadata": {}
    }
   ]
  },
  {
   "cell_type": "code",
   "source": [
    "learner.freeze_to(-3)\n",
    "lr = 1e-5\n",
    "learner.fit_one_cycle(1, max_lr=slice(lr*0.95**num_groups, lr), moms=(0.8, 0.9))"
   ],
   "metadata": {
    "execution": {
     "iopub.status.busy": "2024-05-28T03:42:19.342266Z",
     "iopub.execute_input": "2024-05-28T03:42:19.343096Z",
     "iopub.status.idle": "2024-05-28T03:45:12.539667Z",
     "shell.execute_reply.started": "2024-05-28T03:42:19.343006Z",
     "shell.execute_reply": "2024-05-28T03:45:12.538242Z"
    },
    "trusted": true
   },
   "execution_count": 39,
   "outputs": [
    {
     "output_type": "display_data",
     "data": {
      "text/plain": "<IPython.core.display.HTML object>",
      "text/html": "<table border=\"1\" class=\"dataframe\">\n  <thead>\n    <tr style=\"text-align: left;\">\n      <th>epoch</th>\n      <th>train_loss</th>\n      <th>valid_loss</th>\n      <th>accuracy</th>\n      <th>error_rate</th>\n      <th>time</th>\n    </tr>\n  </thead>\n  <tbody>\n    <tr>\n      <td>epoch</td>\n      <td>train_loss</td>\n      <td>valid_loss</td>\n      <td>accuracy</td>\n      <td>error_rate</td>\n      <td>time</td>\n    </tr>\n    <tr>\n      <td>0</td>\n      <td>0.174200</td>\n      <td>0.224501</td>\n      <td>0.924279</td>\n      <td>0.075721</td>\n      <td>02:51</td>\n    </tr>\n  </tbody>\n</table>"
     },
     "metadata": {}
    },
    {
     "name": "stdout",
     "text": "Save the best accuracy 0.92428\n",
     "output_type": "stream"
    },
    {
     "output_type": "display_data",
     "data": {
      "text/plain": "<Figure size 432x288 with 1 Axes>",
      "image/png": "[encoded data removed]"
     },
     "metadata": {}
    }
   ]
  },
  {
   "cell_type": "code",
   "source": [
    "learner.validate(test_databunch.train_dl)"
   ],
   "metadata": {
    "execution": {
     "iopub.status.busy": "2024-05-28T03:45:12.541999Z",
     "iopub.execute_input": "2024-05-28T03:45:12.542831Z",
     "iopub.status.idle": "2024-05-28T03:56:07.520079Z",
     "shell.execute_reply.started": "2024-05-28T03:45:12.542743Z",
     "shell.execute_reply": "2024-05-28T03:56:07.518726Z"
    },
    "trusted": true
   },
   "execution_count": 40,
   "outputs": [
    {
     "output_type": "display_data",
     "data": {
      "text/plain": "<IPython.core.display.HTML object>",
      "text/html": ""
     },
     "metadata": {}
    },
    {
     "execution_count": 40,
     "output_type": "execute_result",
     "data": {
      "text/plain": "[0.24349323, tensor(0.9048), tensor(0.0952)]"
     },
     "metadata": {}
    }
   ]
  },
  {
   "cell_type": "code",
   "source": [
    "learner.unfreeze()\n",
    "# learner.lr_find()\n",
    "# learner.recorder.plot(skip_end=10,suggestion=True)"
   ],
   "metadata": {
    "execution": {
     "iopub.status.busy": "2024-05-28T03:56:07.522321Z",
     "iopub.execute_input": "2024-05-28T03:56:07.523092Z",
     "iopub.status.idle": "2024-05-28T03:56:07.538340Z",
     "shell.execute_reply.started": "2024-05-28T03:56:07.523013Z",
     "shell.execute_reply": "2024-05-28T03:56:07.536824Z"
    },
    "trusted": true
   },
   "execution_count": 41,
   "outputs": []
  },
  {
   "cell_type": "code",
   "source": [
    "lr = 1e-6\n",
    "learner.fit_one_cycle(25, max_lr=slice(lr*0.95**num_groups, lr), moms=(0.8, 0.9))"
   ],
   "metadata": {
    "execution": {
     "iopub.status.busy": "2024-05-28T03:56:07.540073Z",
     "iopub.execute_input": "2024-05-28T03:56:07.540661Z",
     "iopub.status.idle": "2024-05-28T05:01:29.884806Z",
     "shell.execute_reply.started": "2024-05-28T03:56:07.540445Z",
     "shell.execute_reply": "2024-05-28T05:01:29.883366Z"
    },
    "trusted": true
   },
   "execution_count": 42,
   "outputs": [
    {
     "output_type": "display_data",
     "data": {
      "text/plain": "<IPython.core.display.HTML object>",
      "text/html": "\n    <div>\n        <style>\n            /* Turns off some styling */\n            progress {\n                /* gets rid of default border in Firefox and Opera. */\n                border: none;\n                /* Needs to be in here for Safari polyfill so background images work as expected. */\n                background-size: auto;\n            }\n            .progress-bar-interrupted, .progress-bar-interrupted::-webkit-progress-bar {\n                background: #F44336;\n            }\n        </style>\n      <progress value='24' class='' max='25', style='width:300px; height:20px; vertical-align: middle;'></progress>\n      96.00% [24/25 1:02:53<02:37]\n    </div>\n    \n<table border=\"1\" class=\"dataframe\">\n  <thead>\n    <tr style=\"text-align: left;\">\n      <th>epoch</th>\n      <th>train_loss</th>\n      <th>valid_loss</th>\n      <th>accuracy</th>\n      <th>error_rate</th>\n      <th>time</th>\n    </tr>\n  </thead>\n  <tbody>\n    <tr>\n      <td>epoch</td>\n      <td>train_loss</td>\n      <td>valid_loss</td>\n      <td>accuracy</td>\n      <td>error_rate</td>\n      <td>time</td>\n    </tr>\n    <tr>\n      <td>0</td>\n      <td>0.144667</td>\n      <td>0.243664</td>\n      <td>0.929087</td>\n      <td>0.070913</td>\n      <td>02:54</td>\n    </tr>\n    <tr>\n      <td>1</td>\n      <td>0.140751</td>\n      <td>0.247356</td>\n      <td>0.923077</td>\n      <td>0.076923</td>\n      <td>02:21</td>\n    </tr>\n    <tr>\n      <td>2</td>\n      <td>0.135226</td>\n      <td>0.255550</td>\n      <td>0.926683</td>\n      <td>0.073317</td>\n      <td>02:31</td>\n    </tr>\n    <tr>\n      <td>3</td>\n      <td>0.138543</td>\n      <td>0.254625</td>\n      <td>0.923077</td>\n      <td>0.076923</td>\n      <td>02:38</td>\n    </tr>\n    <tr>\n      <td>4</td>\n      <td>0.125285</td>\n      <td>0.258671</td>\n      <td>0.926683</td>\n      <td>0.073317</td>\n      <td>02:42</td>\n    </tr>\n    <tr>\n      <td>5</td>\n      <td>0.114590</td>\n      <td>0.273577</td>\n      <td>0.927885</td>\n      <td>0.072115</td>\n      <td>02:23</td>\n    </tr>\n    <tr>\n      <td>6</td>\n      <td>0.115405</td>\n      <td>0.297796</td>\n      <td>0.917067</td>\n      <td>0.082933</td>\n      <td>02:36</td>\n    </tr>\n    <tr>\n      <td>7</td>\n      <td>0.100731</td>\n      <td>0.295315</td>\n      <td>0.920673</td>\n      <td>0.079327</td>\n      <td>02:55</td>\n    </tr>\n    <tr>\n      <td>8</td>\n      <td>0.093644</td>\n      <td>0.299950</td>\n      <td>0.921875</td>\n      <td>0.078125</td>\n      <td>02:28</td>\n    </tr>\n    <tr>\n      <td>9</td>\n      <td>0.091660</td>\n      <td>0.331426</td>\n      <td>0.909856</td>\n      <td>0.090144</td>\n      <td>02:26</td>\n    </tr>\n    <tr>\n      <td>10</td>\n      <td>0.077210</td>\n      <td>0.346727</td>\n      <td>0.917067</td>\n      <td>0.082933</td>\n      <td>02:35</td>\n    </tr>\n    <tr>\n      <td>11</td>\n      <td>0.069528</td>\n      <td>0.325022</td>\n      <td>0.921875</td>\n      <td>0.078125</td>\n      <td>02:39</td>\n    </tr>\n    <tr>\n      <td>12</td>\n      <td>0.054755</td>\n      <td>0.390113</td>\n      <td>0.907452</td>\n      <td>0.092548</td>\n      <td>02:29</td>\n    </tr>\n    <tr>\n      <td>13</td>\n      <td>0.047287</td>\n      <td>0.397282</td>\n      <td>0.913462</td>\n      <td>0.086538</td>\n      <td>02:37</td>\n    </tr>\n    <tr>\n      <td>14</td>\n      <td>0.044978</td>\n      <td>0.444532</td>\n      <td>0.909856</td>\n      <td>0.090144</td>\n      <td>02:32</td>\n    </tr>\n    <tr>\n      <td>15</td>\n      <td>0.050616</td>\n      <td>0.454406</td>\n      <td>0.903846</td>\n      <td>0.096154</td>\n      <td>02:38</td>\n    </tr>\n    <tr>\n      <td>16</td>\n      <td>0.053680</td>\n      <td>0.420416</td>\n      <td>0.911058</td>\n      <td>0.088942</td>\n      <td>02:49</td>\n    </tr>\n    <tr>\n      <td>17</td>\n      <td>0.042111</td>\n      <td>0.419037</td>\n      <td>0.912260</td>\n      <td>0.087740</td>\n      <td>02:22</td>\n    </tr>\n    <tr>\n      <td>18</td>\n      <td>0.036977</td>\n      <td>0.478669</td>\n      <td>0.908654</td>\n      <td>0.091346</td>\n      <td>02:47</td>\n    </tr>\n    <tr>\n      <td>19</td>\n      <td>0.032673</td>\n      <td>0.482417</td>\n      <td>0.906250</td>\n      <td>0.093750</td>\n      <td>02:25</td>\n    </tr>\n    <tr>\n      <td>20</td>\n      <td>0.028066</td>\n      <td>0.465388</td>\n      <td>0.908654</td>\n      <td>0.091346</td>\n      <td>02:31</td>\n    </tr>\n    <tr>\n      <td>21</td>\n      <td>0.028276</td>\n      <td>0.438733</td>\n      <td>0.914663</td>\n      <td>0.085337</td>\n      <td>02:43</td>\n    </tr>\n    <tr>\n      <td>22</td>\n      <td>0.032706</td>\n      <td>0.501576</td>\n      <td>0.905048</td>\n      <td>0.094952</td>\n      <td>02:50</td>\n    </tr>\n    <tr>\n      <td>23</td>\n      <td>0.040160</td>\n      <td>0.489277</td>\n      <td>0.909856</td>\n      <td>0.090144</td>\n      <td>02:38</td>\n    </tr>\n  </tbody>\n</table><p>\n\n    <div>\n        <style>\n            /* Turns off some styling */\n            progress {\n                /* gets rid of default border in Firefox and Opera. */\n                border: none;\n                /* Needs to be in here for Safari polyfill so background images work as expected. */\n                background-size: auto;\n            }\n            .progress-bar-interrupted, .progress-bar-interrupted::-webkit-progress-bar {\n                background: #F44336;\n            }\n        </style>\n      <progress value='347' class='' max='1052', style='width:300px; height:20px; vertical-align: middle;'></progress>\n      32.98% [347/1052 00:49<01:39 0.0269]\n    </div>\n    "
     },
     "metadata": {}
    },
    {
     "name": "stdout",
     "text": "Save the best accuracy 0.92909\n",
     "output_type": "stream"
    },
    {
     "output_type": "display_data",
     "data": {
      "text/plain": "<Figure size 432x288 with 1 Axes>",
      "image/png": "[encoded data removed]"
     },
     "metadata": {}
    },
    {
     "text": "IOPub message rate exceeded.\nThe notebook server will temporarily stop sending output\nto the client in order to avoid crashing it.\nTo change this limit, set the config variable\n`--NotebookApp.iopub_msg_rate_limit`.\n\nCurrent values:\nNotebookApp.iopub_msg_rate_limit=1000.0 (msgs/sec)\nNotebookApp.rate_limit_window=3.0 (secs)\n\nIOPub message rate exceeded.\nThe notebook server will temporarily stop sending output\nto the client in order to avoid crashing it.\nTo change this limit, set the config variable\n`--NotebookApp.iopub_msg_rate_limit`.\n\nCurrent values:\nNotebookApp.iopub_msg_rate_limit=1000.0 (msgs/sec)\nNotebookApp.rate_limit_window=3.0 (secs)\n\n",
     "name": "stderr",
     "output_type": "stream"
    }
   ]
  },
  {
   "cell_type": "code",
   "source": [
    "learner.validate(test_databunch.train_dl)"
   ],
   "metadata": {
    "execution": {
     "iopub.status.busy": "2024-05-28T05:01:29.887162Z",
     "iopub.execute_input": "2024-05-28T05:01:29.887955Z",
     "iopub.status.idle": "2024-05-28T05:12:25.324002Z",
     "shell.execute_reply.started": "2024-05-28T05:01:29.887876Z",
     "shell.execute_reply": "2024-05-28T05:12:25.322643Z"
    },
    "trusted": true
   },
   "execution_count": 43,
   "outputs": [
    {
     "output_type": "display_data",
     "data": {
      "text/plain": "<IPython.core.display.HTML object>",
      "text/html": ""
     },
     "metadata": {}
    },
    {
     "execution_count": 43,
     "output_type": "execute_result",
     "data": {
      "text/plain": "[0.36454204, tensor(0.9030), tensor(0.0970)]"
     },
     "metadata": {}
    }
   ]
  },
  {
   "cell_type": "code",
   "source": [
    "learner.load('best_model')"
   ],
   "metadata": {
    "execution": {
     "iopub.status.busy": "2024-05-28T05:12:25.326329Z",
     "iopub.execute_input": "2024-05-28T05:12:25.327109Z",
     "iopub.status.idle": "2024-05-28T05:12:25.637957Z",
     "shell.execute_reply.started": "2024-05-28T05:12:25.327032Z",
     "shell.execute_reply": "2024-05-28T05:12:25.637042Z"
    },
    "trusted": true
   },
   "execution_count": 44,
   "outputs": [
    {
     "execution_count": 44,
     "output_type": "execute_result",
     "data": {
      "text/plain": "Learner(data=TextClasDataBunch;\n\nTrain: LabelList (67349 items)\nx: TextList\n[CLS] ▁hide ▁new ▁secretion s ▁from ▁the ▁parental ▁units [SEP],[CLS] ▁contains ▁no ▁wit ▁ , ▁only ▁labor ed ▁gag s [SEP],[CLS] ▁that ▁loves ▁its ▁characters ▁and ▁communicate s ▁something ▁rather ▁beautiful ▁about ▁human ▁nature [SEP],[CLS] ▁remains ▁utterly ▁satisfied ▁to ▁remain ▁the ▁same ▁throughout [SEP],[CLS] ▁on ▁the ▁worst ▁revenge - of - the - ner d s ▁cliche s ▁the ▁filmmakers ▁could ▁dredge ▁up [SEP]\ny: CategoryList\n0,0,1,0,0\nPath: .;\n\nValid: LabelList (872 items)\nx: TextList\n[CLS] ▁it ▁ ' s ▁a ▁charming ▁and ▁often ▁affecting ▁journey ▁ . [SEP],[CLS] ▁un fl inch ing ly ▁bleak ▁and ▁desperate [SEP],[CLS] ▁allows ▁us ▁to ▁hope ▁that ▁nolan ▁is ▁poised ▁to ▁embark ▁a ▁major ▁career ▁as ▁a ▁commercial ▁yet ▁inventive ▁filmmaker ▁ . [SEP],[CLS] ▁the ▁acting ▁ , ▁costumes ▁ , ▁music ▁ , ▁cinematography ▁and ▁sound ▁are ▁all ▁as to und ing ▁given ▁the ▁production ▁ ' s ▁aust ere ▁local es ▁ . [SEP],[CLS] ▁it ▁ ' s ▁slow ▁ - - ▁very ▁ , ▁very ▁slow ▁ . [SEP]\ny: CategoryList\n1,0,1,1,0\nPath: .;\n\nTest: None, model=CustomTransformerModel(\n  (transformer): AlbertModel(\n    (embeddings): AlbertEmbeddings(\n      (word_embeddings): Embedding(30000, 128, padding_idx=0)\n      (position_embeddings): Embedding(512, 128)\n      (token_type_embeddings): Embedding(2, 128)\n      (LayerNorm): LayerNorm((128,), eps=1e-12, elementwise_affine=True)\n      (dropout): Dropout(p=0, inplace=False)\n    )\n    (encoder): AlbertTransformer(\n      (embedding_hidden_mapping_in): Linear(in_features=128, out_features=768, bias=True)\n      (albert_layer_groups): ModuleList(\n        (0): AlbertLayerGroup(\n          (albert_layers): ModuleList(\n            (0): AlbertLayer(\n              (full_layer_layer_norm): LayerNorm((768,), eps=1e-12, elementwise_affine=True)\n              (attention): AlbertAttention(\n                (query): Linear(in_features=768, out_features=768, bias=True)\n                (key): Linear(in_features=768, out_features=768, bias=True)\n                (value): Linear(in_features=768, out_features=768, bias=True)\n                (dropout): Dropout(p=0, inplace=False)\n                (dense): Linear(in_features=768, out_features=768, bias=True)\n                (LayerNorm): LayerNorm((768,), eps=1e-12, elementwise_affine=True)\n              )\n              (ffn): Linear(in_features=768, out_features=3072, bias=True)\n              (ffn_output): Linear(in_features=3072, out_features=768, bias=True)\n            )\n          )\n        )\n      )\n    )\n    (pooler): Linear(in_features=768, out_features=768, bias=True)\n    (pooler_activation): Tanh()\n  )\n  (rnns): ModuleList(\n    (0): WeightDropout(\n      (module): LSTM(768, 576, batch_first=True, bidirectional=True)\n    )\n    (1): WeightDropout(\n      (module): LSTM(1152, 384, batch_first=True, bidirectional=True)\n    )\n  )\n  (hidden_dps): ModuleList(\n    (0): RNNDropout()\n    (1): RNNDropout()\n  )\n  (out): Linear(in_features=768, out_features=2, bias=True)\n  (dropout): Dropout(p=0.1, inplace=False)\n), opt_func=functools.partial(<class 'transformers.optimization.AdamW'>, correct_bias=False), loss_func=FlattenedLoss of CrossEntropyLoss(), metrics=[<function accuracy at 0x7bbee50730d0>, <function error_rate at 0x7bbee50732f0>], true_wd=True, bn_wd=True, wd=0.01, train_bn=True, path=PosixPath('.'), model_dir='models', callback_fns=[functools.partial(<class 'fastai.basic_train.Recorder'>, add_time=True, silent=False), <class '__main__.SaveBestModel'>], callbacks=[ShowGraph\nlearn: Learner(data=TextClasDataBunch;\n\nTrain: LabelList (67349 items)\nx: TextList\n[CLS] ▁hide ▁new ▁secretion s ▁from ▁the ▁parental ▁units [SEP],[CLS] ▁contains ▁no ▁wit ▁ , ▁only ▁labor ed ▁gag s [SEP],[CLS] ▁that ▁loves ▁its ▁characters ▁and ▁communicate s ▁something ▁rather ▁beautiful ▁about ▁human ▁nature [SEP],[CLS] ▁remains ▁utterly ▁satisfied ▁to ▁remain ▁the ▁same ▁throughout [SEP],[CLS] ▁on ▁the ▁worst ▁revenge - of - the - ner d s ▁cliche s ▁the ▁filmmakers ▁could ▁dredge ▁up [SEP]\ny: CategoryList\n0,0,1,0,0\nPath: .;\n\nValid: LabelList (872 items)\nx: TextList\n[CLS] ▁it ▁ ' s ▁a ▁charming ▁and ▁often ▁affecting ▁journey ▁ . [SEP],[CLS] ▁un fl inch ing ly ▁bleak ▁and ▁desperate [SEP],[CLS] ▁allows ▁us ▁to ▁hope ▁that ▁nolan ▁is ▁poised ▁to ▁embark ▁a ▁major ▁career ▁as ▁a ▁commercial ▁yet ▁inventive ▁filmmaker ▁ . [SEP],[CLS] ▁the ▁acting ▁ , ▁costumes ▁ , ▁music ▁ , ▁cinematography ▁and ▁sound ▁are ▁all ▁as to und ing ▁given ▁the ▁production ▁ ' s ▁aust ere ▁local es ▁ . [SEP],[CLS] ▁it ▁ ' s ▁slow ▁ - - ▁very ▁ , ▁very ▁slow ▁ . [SEP]\ny: CategoryList\n1,0,1,1,0\nPath: .;\n\nTest: None, model=CustomTransformerModel(\n  (transformer): AlbertModel(\n    (embeddings): AlbertEmbeddings(\n      (word_embeddings): Embedding(30000, 128, padding_idx=0)\n      (position_embeddings): Embedding(512, 128)\n      (token_type_embeddings): Embedding(2, 128)\n      (LayerNorm): LayerNorm((128,), eps=1e-12, elementwise_affine=True)\n      (dropout): Dropout(p=0, inplace=False)\n    )\n    (encoder): AlbertTransformer(\n      (embedding_hidden_mapping_in): Linear(in_features=128, out_features=768, bias=True)\n      (albert_layer_groups): ModuleList(\n        (0): AlbertLayerGroup(\n          (albert_layers): ModuleList(\n            (0): AlbertLayer(\n              (full_layer_layer_norm): LayerNorm((768,), eps=1e-12, elementwise_affine=True)\n              (attention): AlbertAttention(\n                (query): Linear(in_features=768, out_features=768, bias=True)\n                (key): Linear(in_features=768, out_features=768, bias=True)\n                (value): Linear(in_features=768, out_features=768, bias=True)\n                (dropout): Dropout(p=0, inplace=False)\n                (dense): Linear(in_features=768, out_features=768, bias=True)\n                (LayerNorm): LayerNorm((768,), eps=1e-12, elementwise_affine=True)\n              )\n              (ffn): Linear(in_features=768, out_features=3072, bias=True)\n              (ffn_output): Linear(in_features=3072, out_features=768, bias=True)\n            )\n          )\n        )\n      )\n    )\n    (pooler): Linear(in_features=768, out_features=768, bias=True)\n    (pooler_activation): Tanh()\n  )\n  (rnns): ModuleList(\n    (0): WeightDropout(\n      (module): LSTM(768, 576, batch_first=True, bidirectional=True)\n    )\n    (1): WeightDropout(\n      (module): LSTM(1152, 384, batch_first=True, bidirectional=True)\n    )\n  )\n  (hidden_dps): ModuleList(\n    (0): RNNDropout()\n    (1): RNNDropout()\n  )\n  (out): Linear(in_features=768, out_features=2, bias=True)\n  (dropout): Dropout(p=0.1, inplace=False)\n), opt_func=functools.partial(<class 'transformers.optimization.AdamW'>, correct_bias=False), loss_func=FlattenedLoss of CrossEntropyLoss(), metrics=[<function accuracy at 0x7bbee50730d0>, <function error_rate at 0x7bbee50732f0>], true_wd=True, bn_wd=True, wd=0.01, train_bn=True, path=PosixPath('.'), model_dir='models', callback_fns=[functools.partial(<class 'fastai.basic_train.Recorder'>, add_time=True, silent=False), <class '__main__.SaveBestModel'>], callbacks=[...], layer_groups=[Sequential(\n  (0): Embedding(30000, 128, padding_idx=0)\n  (1): Embedding(512, 128)\n  (2): Embedding(2, 128)\n  (3): LayerNorm((128,), eps=1e-12, elementwise_affine=True)\n  (4): Dropout(p=0, inplace=False)\n), Sequential(\n  (0): Linear(in_features=128, out_features=768, bias=True)\n  (1): LayerNorm((768,), eps=1e-12, elementwise_affine=True)\n  (2): Linear(in_features=768, out_features=768, bias=True)\n  (3): Linear(in_features=768, out_features=768, bias=True)\n  (4): Linear(in_features=768, out_features=768, bias=True)\n  (5): Dropout(p=0, inplace=False)\n  (6): Linear(in_features=768, out_features=768, bias=True)\n  (7): LayerNorm((768,), eps=1e-12, elementwise_affine=True)\n  (8): Linear(in_features=768, out_features=3072, bias=True)\n  (9): Linear(in_features=3072, out_features=768, bias=True)\n), Sequential(\n  (0): Linear(in_features=768, out_features=768, bias=True)\n  (1): Tanh()\n), Sequential(\n  (0): LSTM(768, 576, batch_first=True, bidirectional=True)\n  (1): ParameterModule()\n  (2): LSTM(1152, 384, batch_first=True, bidirectional=True)\n  (3): ParameterModule()\n  (4): RNNDropout()\n  (5): RNNDropout()\n  (6): Linear(in_features=768, out_features=2, bias=True)\n  (7): Dropout(p=0.1, inplace=False)\n)], add_time=True, silent=False)], layer_groups=[Sequential(\n  (0): Embedding(30000, 128, padding_idx=0)\n  (1): Embedding(512, 128)\n  (2): Embedding(2, 128)\n  (3): LayerNorm((128,), eps=1e-12, elementwise_affine=True)\n  (4): Dropout(p=0, inplace=False)\n), Sequential(\n  (0): Linear(in_features=128, out_features=768, bias=True)\n  (1): LayerNorm((768,), eps=1e-12, elementwise_affine=True)\n  (2): Linear(in_features=768, out_features=768, bias=True)\n  (3): Linear(in_features=768, out_features=768, bias=True)\n  (4): Linear(in_features=768, out_features=768, bias=True)\n  (5): Dropout(p=0, inplace=False)\n  (6): Linear(in_features=768, out_features=768, bias=True)\n  (7): LayerNorm((768,), eps=1e-12, elementwise_affine=True)\n  (8): Linear(in_features=768, out_features=3072, bias=True)\n  (9): Linear(in_features=3072, out_features=768, bias=True)\n), Sequential(\n  (0): Linear(in_features=768, out_features=768, bias=True)\n  (1): Tanh()\n), Sequential(\n  (0): LSTM(768, 576, batch_first=True, bidirectional=True)\n  (1): ParameterModule()\n  (2): LSTM(1152, 384, batch_first=True, bidirectional=True)\n  (3): ParameterModule()\n  (4): RNNDropout()\n  (5): RNNDropout()\n  (6): Linear(in_features=768, out_features=2, bias=True)\n  (7): Dropout(p=0.1, inplace=False)\n)], add_time=True, silent=False)"
     },
     "metadata": {}
    }
   ]
  },
  {
   "cell_type": "code",
   "source": [
    "learner.validate(test_databunch.train_dl)"
   ],
   "metadata": {
    "execution": {
     "iopub.status.busy": "2024-05-28T05:12:25.639223Z",
     "iopub.execute_input": "2024-05-28T05:12:25.639513Z",
     "iopub.status.idle": "2024-05-28T05:23:03.997839Z",
     "shell.execute_reply.started": "2024-05-28T05:12:25.639473Z",
     "shell.execute_reply": "2024-05-28T05:23:03.996505Z"
    },
    "trusted": true
   },
   "execution_count": 45,
   "outputs": [
    {
     "output_type": "display_data",
     "data": {
      "text/plain": "<IPython.core.display.HTML object>",
      "text/html": ""
     },
     "metadata": {}
    },
    {
     "execution_count": 45,
     "output_type": "execute_result",
     "data": {
      "text/plain": "[0.25049818, tensor(0.9022), tensor(0.0978)]"
     },
     "metadata": {}
    }
   ]
  },
  {
   "cell_type": "code",
   "source": [
    "lr = 3e-4\n",
    "learner.fit_one_cycle(5, max_lr=slice(lr*0.5**num_groups, lr), moms=(0.8, 0.9))"
   ],
   "metadata": {
    "execution": {
     "iopub.status.busy": "2024-05-28T05:23:04.000052Z",
     "iopub.execute_input": "2024-05-28T05:23:04.000837Z",
     "iopub.status.idle": "2024-05-28T05:36:14.859928Z",
     "shell.execute_reply.started": "2024-05-28T05:23:04.000759Z",
     "shell.execute_reply": "2024-05-28T05:36:14.858370Z"
    },
    "trusted": true
   },
   "execution_count": 46,
   "outputs": [
    {
     "output_type": "display_data",
     "data": {
      "text/plain": "<IPython.core.display.HTML object>",
      "text/html": "<table border=\"1\" class=\"dataframe\">\n  <thead>\n    <tr style=\"text-align: left;\">\n      <th>epoch</th>\n      <th>train_loss</th>\n      <th>valid_loss</th>\n      <th>accuracy</th>\n      <th>error_rate</th>\n      <th>time</th>\n    </tr>\n  </thead>\n  <tbody>\n    <tr>\n      <td>epoch</td>\n      <td>train_loss</td>\n      <td>valid_loss</td>\n      <td>accuracy</td>\n      <td>error_rate</td>\n      <td>time</td>\n    </tr>\n    <tr>\n      <td>0</td>\n      <td>0.201891</td>\n      <td>0.262094</td>\n      <td>0.903846</td>\n      <td>0.096154</td>\n      <td>02:26</td>\n    </tr>\n    <tr>\n      <td>1</td>\n      <td>0.172004</td>\n      <td>0.247453</td>\n      <td>0.907452</td>\n      <td>0.092548</td>\n      <td>02:35</td>\n    </tr>\n    <tr>\n      <td>2</td>\n      <td>0.111708</td>\n      <td>0.265820</td>\n      <td>0.914663</td>\n      <td>0.085337</td>\n      <td>02:54</td>\n    </tr>\n    <tr>\n      <td>3</td>\n      <td>0.076239</td>\n      <td>0.228052</td>\n      <td>0.927885</td>\n      <td>0.072115</td>\n      <td>02:37</td>\n    </tr>\n    <tr>\n      <td>4</td>\n      <td>0.035200</td>\n      <td>0.291625</td>\n      <td>0.914663</td>\n      <td>0.085337</td>\n      <td>02:32</td>\n    </tr>\n  </tbody>\n</table>"
     },
     "metadata": {}
    },
    {
     "name": "stdout",
     "text": "Save the best accuracy 0.90385\n",
     "output_type": "stream"
    },
    {
     "output_type": "display_data",
     "data": {
      "text/plain": "<Figure size 432x288 with 1 Axes>",
      "image/png": "[encoded data removed]"
     },
     "metadata": {}
    },
    {
     "name": "stdout",
     "text": "Save the best accuracy 0.90745\nSave the best accuracy 0.91466\nSave the best accuracy 0.92788\n",
     "output_type": "stream"
    }
   ]
  },
  {
   "cell_type": "code",
   "source": [
    "learner.validate(test_databunch.train_dl)"
   ],
   "metadata": {
    "execution": {
     "iopub.status.busy": "2024-05-28T05:36:14.862873Z",
     "iopub.execute_input": "2024-05-28T05:36:14.863628Z",
     "iopub.status.idle": "2024-05-28T05:45:59.507850Z",
     "shell.execute_reply.started": "2024-05-28T05:36:14.863386Z",
     "shell.execute_reply": "2024-05-28T05:45:59.506370Z"
    },
    "trusted": true
   },
   "execution_count": 47,
   "outputs": [
    {
     "output_type": "display_data",
     "data": {
      "text/plain": "<IPython.core.display.HTML object>",
      "text/html": ""
     },
     "metadata": {}
    },
    {
     "execution_count": 47,
     "output_type": "execute_result",
     "data": {
      "text/plain": "[0.42993486, tensor(0.8530), tensor(0.1470)]"
     },
     "metadata": {}
    }
   ]
  },
  {
   "cell_type": "code",
   "source": [
    "learner.fit_one_cycle(2, max_lr=slice(lr*0.25**num_groups, lr), moms=(0.8, 0.9))"
   ],
   "metadata": {
    "execution": {
     "iopub.status.busy": "2024-05-28T05:45:59.510480Z",
     "iopub.execute_input": "2024-05-28T05:45:59.511418Z",
     "iopub.status.idle": "2024-05-28T05:51:18.706632Z",
     "shell.execute_reply.started": "2024-05-28T05:45:59.511331Z",
     "shell.execute_reply": "2024-05-28T05:51:18.705270Z"
    },
    "trusted": true
   },
   "execution_count": 48,
   "outputs": [
    {
     "output_type": "display_data",
     "data": {
      "text/plain": "<IPython.core.display.HTML object>",
      "text/html": "<table border=\"1\" class=\"dataframe\">\n  <thead>\n    <tr style=\"text-align: left;\">\n      <th>epoch</th>\n      <th>train_loss</th>\n      <th>valid_loss</th>\n      <th>accuracy</th>\n      <th>error_rate</th>\n      <th>time</th>\n    </tr>\n  </thead>\n  <tbody>\n    <tr>\n      <td>epoch</td>\n      <td>train_loss</td>\n      <td>valid_loss</td>\n      <td>accuracy</td>\n      <td>error_rate</td>\n      <td>time</td>\n    </tr>\n    <tr>\n      <td>0</td>\n      <td>0.036587</td>\n      <td>0.295339</td>\n      <td>0.919471</td>\n      <td>0.080529</td>\n      <td>02:52</td>\n    </tr>\n    <tr>\n      <td>1</td>\n      <td>0.021620</td>\n      <td>0.327570</td>\n      <td>0.917067</td>\n      <td>0.082933</td>\n      <td>02:25</td>\n    </tr>\n  </tbody>\n</table>"
     },
     "metadata": {}
    },
    {
     "name": "stdout",
     "text": "Save the best accuracy 0.91947\n",
     "output_type": "stream"
    },
    {
     "output_type": "display_data",
     "data": {
      "text/plain": "<Figure size 432x288 with 1 Axes>",
      "image/png": "[encoded data removed]"
     },
     "metadata": {}
    }
   ]
  },
  {
   "cell_type": "code",
   "source": [
    "learner.validate(test_databunch.train_dl)"
   ],
   "metadata": {
    "execution": {
     "iopub.status.busy": "2024-05-28T05:51:18.708911Z",
     "iopub.execute_input": "2024-05-28T05:51:18.709509Z",
     "iopub.status.idle": "2024-05-28T06:01:14.928191Z",
     "shell.execute_reply.started": "2024-05-28T05:51:18.709427Z",
     "shell.execute_reply": "2024-05-28T06:01:14.926812Z"
    },
    "trusted": true
   },
   "execution_count": 49,
   "outputs": [
    {
     "output_type": "display_data",
     "data": {
      "text/plain": "<IPython.core.display.HTML object>",
      "text/html": ""
     },
     "metadata": {}
    },
    {
     "execution_count": 49,
     "output_type": "execute_result",
     "data": {
      "text/plain": "[0.5248867, tensor(0.8518), tensor(0.1482)]"
     },
     "metadata": {}
    }
   ]
  }
 ]
}
